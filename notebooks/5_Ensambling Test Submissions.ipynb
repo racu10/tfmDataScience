{
 "cells": [
  {
   "cell_type": "markdown",
   "metadata": {},
   "source": [
    "# 5. Ensambling de los diferentes algoritmos"
   ]
  },
  {
   "cell_type": "markdown",
   "metadata": {},
   "source": [
    "###### En este notebook, a partir de los resultados obtenidos por los diferentes algoritmos, haciendo uso de los que mayor porcentaje han tenido se generará ensambling entre estos según el peso indicado."
   ]
  },
  {
   "cell_type": "code",
   "execution_count": 1,
   "metadata": {
    "collapsed": true
   },
   "outputs": [],
   "source": [
    "import os\n",
    "import pandas as pd\n",
    "import numpy as np\n",
    "from tqdm import tqdm"
   ]
  },
  {
   "cell_type": "markdown",
   "metadata": {},
   "source": [
    "## Inicializacion variables"
   ]
  },
  {
   "cell_type": "code",
   "execution_count": 2,
   "metadata": {
    "collapsed": true
   },
   "outputs": [],
   "source": [
    "dfLR = None\n",
    "dfLSVC = None\n",
    "dfNB = None\n",
    "dfSGD = None\n",
    "dfDT = None\n",
    "\n",
    "#Deep Learning\n",
    "dfCNN = None\n",
    "dfLSTM = None"
   ]
  },
  {
   "cell_type": "markdown",
   "metadata": {},
   "source": [
    "> Lectura de todos los ficheros a tratar, se requerirá de un archivo CSV con todos los campos igual que un te test para en caso que un df no tenga valores por que sea comentado este será utilizado sin peso alguno en los resultados finales "
   ]
  },
  {
   "cell_type": "code",
   "execution_count": 3,
   "metadata": {},
   "outputs": [
    {
     "ename": "FileNotFoundError",
     "evalue": "File b'../data/processed/ensambling/lr.csv' does not exist",
     "output_type": "error",
     "traceback": [
      "\u001b[1;31m---------------------------------------------------------------------------\u001b[0m",
      "\u001b[1;31mFileNotFoundError\u001b[0m                         Traceback (most recent call last)",
      "\u001b[1;32m<ipython-input-3-1b3051e58e87>\u001b[0m in \u001b[0;36m<module>\u001b[1;34m()\u001b[0m\n\u001b[0;32m      6\u001b[0m \u001b[1;33m\u001b[0m\u001b[0m\n\u001b[0;32m      7\u001b[0m \u001b[1;31m#Machine learning\u001b[0m\u001b[1;33m\u001b[0m\u001b[1;33m\u001b[0m\u001b[0m\n\u001b[1;32m----> 8\u001b[1;33m \u001b[0mdfLR\u001b[0m \u001b[1;33m=\u001b[0m \u001b[0mpd\u001b[0m\u001b[1;33m.\u001b[0m\u001b[0mread_csv\u001b[0m\u001b[1;33m(\u001b[0m\u001b[0mpath\u001b[0m \u001b[1;33m+\u001b[0m \u001b[1;34m'lr.csv'\u001b[0m\u001b[1;33m,\u001b[0m \u001b[0mencoding\u001b[0m\u001b[1;33m=\u001b[0m\u001b[1;34m'utf-8'\u001b[0m\u001b[1;33m)\u001b[0m\u001b[1;33m\u001b[0m\u001b[0m\n\u001b[0m\u001b[0;32m      9\u001b[0m \u001b[0mdfLSVC\u001b[0m \u001b[1;33m=\u001b[0m \u001b[0mpd\u001b[0m\u001b[1;33m.\u001b[0m\u001b[0mread_csv\u001b[0m\u001b[1;33m(\u001b[0m\u001b[0mpath\u001b[0m \u001b[1;33m+\u001b[0m \u001b[1;34m'lsvc.csv'\u001b[0m\u001b[1;33m,\u001b[0m \u001b[0mencoding\u001b[0m\u001b[1;33m=\u001b[0m\u001b[1;34m'utf-8'\u001b[0m\u001b[1;33m)\u001b[0m\u001b[1;33m\u001b[0m\u001b[0m\n\u001b[0;32m     10\u001b[0m \u001b[0mdfNB\u001b[0m \u001b[1;33m=\u001b[0m \u001b[0mpd\u001b[0m\u001b[1;33m.\u001b[0m\u001b[0mread_csv\u001b[0m\u001b[1;33m(\u001b[0m\u001b[0mpath\u001b[0m \u001b[1;33m+\u001b[0m \u001b[1;34m'nb.csv'\u001b[0m\u001b[1;33m,\u001b[0m \u001b[0mencoding\u001b[0m\u001b[1;33m=\u001b[0m\u001b[1;34m'utf-8'\u001b[0m\u001b[1;33m)\u001b[0m\u001b[1;33m\u001b[0m\u001b[0m\n",
      "\u001b[1;32mC:\\Anaconda2\\envs\\py36\\lib\\site-packages\\pandas\\io\\parsers.py\u001b[0m in \u001b[0;36mparser_f\u001b[1;34m(filepath_or_buffer, sep, delimiter, header, names, index_col, usecols, squeeze, prefix, mangle_dupe_cols, dtype, engine, converters, true_values, false_values, skipinitialspace, skiprows, nrows, na_values, keep_default_na, na_filter, verbose, skip_blank_lines, parse_dates, infer_datetime_format, keep_date_col, date_parser, dayfirst, iterator, chunksize, compression, thousands, decimal, lineterminator, quotechar, quoting, escapechar, comment, encoding, dialect, tupleize_cols, error_bad_lines, warn_bad_lines, skipfooter, skip_footer, doublequote, delim_whitespace, as_recarray, compact_ints, use_unsigned, low_memory, buffer_lines, memory_map, float_precision)\u001b[0m\n\u001b[0;32m    653\u001b[0m                     skip_blank_lines=skip_blank_lines)\n\u001b[0;32m    654\u001b[0m \u001b[1;33m\u001b[0m\u001b[0m\n\u001b[1;32m--> 655\u001b[1;33m         \u001b[1;32mreturn\u001b[0m \u001b[0m_read\u001b[0m\u001b[1;33m(\u001b[0m\u001b[0mfilepath_or_buffer\u001b[0m\u001b[1;33m,\u001b[0m \u001b[0mkwds\u001b[0m\u001b[1;33m)\u001b[0m\u001b[1;33m\u001b[0m\u001b[0m\n\u001b[0m\u001b[0;32m    656\u001b[0m \u001b[1;33m\u001b[0m\u001b[0m\n\u001b[0;32m    657\u001b[0m     \u001b[0mparser_f\u001b[0m\u001b[1;33m.\u001b[0m\u001b[0m__name__\u001b[0m \u001b[1;33m=\u001b[0m \u001b[0mname\u001b[0m\u001b[1;33m\u001b[0m\u001b[0m\n",
      "\u001b[1;32mC:\\Anaconda2\\envs\\py36\\lib\\site-packages\\pandas\\io\\parsers.py\u001b[0m in \u001b[0;36m_read\u001b[1;34m(filepath_or_buffer, kwds)\u001b[0m\n\u001b[0;32m    403\u001b[0m \u001b[1;33m\u001b[0m\u001b[0m\n\u001b[0;32m    404\u001b[0m     \u001b[1;31m# Create the parser.\u001b[0m\u001b[1;33m\u001b[0m\u001b[1;33m\u001b[0m\u001b[0m\n\u001b[1;32m--> 405\u001b[1;33m     \u001b[0mparser\u001b[0m \u001b[1;33m=\u001b[0m \u001b[0mTextFileReader\u001b[0m\u001b[1;33m(\u001b[0m\u001b[0mfilepath_or_buffer\u001b[0m\u001b[1;33m,\u001b[0m \u001b[1;33m**\u001b[0m\u001b[0mkwds\u001b[0m\u001b[1;33m)\u001b[0m\u001b[1;33m\u001b[0m\u001b[0m\n\u001b[0m\u001b[0;32m    406\u001b[0m \u001b[1;33m\u001b[0m\u001b[0m\n\u001b[0;32m    407\u001b[0m     \u001b[1;32mif\u001b[0m \u001b[0mchunksize\u001b[0m \u001b[1;32mor\u001b[0m \u001b[0miterator\u001b[0m\u001b[1;33m:\u001b[0m\u001b[1;33m\u001b[0m\u001b[0m\n",
      "\u001b[1;32mC:\\Anaconda2\\envs\\py36\\lib\\site-packages\\pandas\\io\\parsers.py\u001b[0m in \u001b[0;36m__init__\u001b[1;34m(self, f, engine, **kwds)\u001b[0m\n\u001b[0;32m    760\u001b[0m             \u001b[0mself\u001b[0m\u001b[1;33m.\u001b[0m\u001b[0moptions\u001b[0m\u001b[1;33m[\u001b[0m\u001b[1;34m'has_index_names'\u001b[0m\u001b[1;33m]\u001b[0m \u001b[1;33m=\u001b[0m \u001b[0mkwds\u001b[0m\u001b[1;33m[\u001b[0m\u001b[1;34m'has_index_names'\u001b[0m\u001b[1;33m]\u001b[0m\u001b[1;33m\u001b[0m\u001b[0m\n\u001b[0;32m    761\u001b[0m \u001b[1;33m\u001b[0m\u001b[0m\n\u001b[1;32m--> 762\u001b[1;33m         \u001b[0mself\u001b[0m\u001b[1;33m.\u001b[0m\u001b[0m_make_engine\u001b[0m\u001b[1;33m(\u001b[0m\u001b[0mself\u001b[0m\u001b[1;33m.\u001b[0m\u001b[0mengine\u001b[0m\u001b[1;33m)\u001b[0m\u001b[1;33m\u001b[0m\u001b[0m\n\u001b[0m\u001b[0;32m    763\u001b[0m \u001b[1;33m\u001b[0m\u001b[0m\n\u001b[0;32m    764\u001b[0m     \u001b[1;32mdef\u001b[0m \u001b[0mclose\u001b[0m\u001b[1;33m(\u001b[0m\u001b[0mself\u001b[0m\u001b[1;33m)\u001b[0m\u001b[1;33m:\u001b[0m\u001b[1;33m\u001b[0m\u001b[0m\n",
      "\u001b[1;32mC:\\Anaconda2\\envs\\py36\\lib\\site-packages\\pandas\\io\\parsers.py\u001b[0m in \u001b[0;36m_make_engine\u001b[1;34m(self, engine)\u001b[0m\n\u001b[0;32m    964\u001b[0m     \u001b[1;32mdef\u001b[0m \u001b[0m_make_engine\u001b[0m\u001b[1;33m(\u001b[0m\u001b[0mself\u001b[0m\u001b[1;33m,\u001b[0m \u001b[0mengine\u001b[0m\u001b[1;33m=\u001b[0m\u001b[1;34m'c'\u001b[0m\u001b[1;33m)\u001b[0m\u001b[1;33m:\u001b[0m\u001b[1;33m\u001b[0m\u001b[0m\n\u001b[0;32m    965\u001b[0m         \u001b[1;32mif\u001b[0m \u001b[0mengine\u001b[0m \u001b[1;33m==\u001b[0m \u001b[1;34m'c'\u001b[0m\u001b[1;33m:\u001b[0m\u001b[1;33m\u001b[0m\u001b[0m\n\u001b[1;32m--> 966\u001b[1;33m             \u001b[0mself\u001b[0m\u001b[1;33m.\u001b[0m\u001b[0m_engine\u001b[0m \u001b[1;33m=\u001b[0m \u001b[0mCParserWrapper\u001b[0m\u001b[1;33m(\u001b[0m\u001b[0mself\u001b[0m\u001b[1;33m.\u001b[0m\u001b[0mf\u001b[0m\u001b[1;33m,\u001b[0m \u001b[1;33m**\u001b[0m\u001b[0mself\u001b[0m\u001b[1;33m.\u001b[0m\u001b[0moptions\u001b[0m\u001b[1;33m)\u001b[0m\u001b[1;33m\u001b[0m\u001b[0m\n\u001b[0m\u001b[0;32m    967\u001b[0m         \u001b[1;32melse\u001b[0m\u001b[1;33m:\u001b[0m\u001b[1;33m\u001b[0m\u001b[0m\n\u001b[0;32m    968\u001b[0m             \u001b[1;32mif\u001b[0m \u001b[0mengine\u001b[0m \u001b[1;33m==\u001b[0m \u001b[1;34m'python'\u001b[0m\u001b[1;33m:\u001b[0m\u001b[1;33m\u001b[0m\u001b[0m\n",
      "\u001b[1;32mC:\\Anaconda2\\envs\\py36\\lib\\site-packages\\pandas\\io\\parsers.py\u001b[0m in \u001b[0;36m__init__\u001b[1;34m(self, src, **kwds)\u001b[0m\n\u001b[0;32m   1580\u001b[0m         \u001b[0mkwds\u001b[0m\u001b[1;33m[\u001b[0m\u001b[1;34m'allow_leading_cols'\u001b[0m\u001b[1;33m]\u001b[0m \u001b[1;33m=\u001b[0m \u001b[0mself\u001b[0m\u001b[1;33m.\u001b[0m\u001b[0mindex_col\u001b[0m \u001b[1;32mis\u001b[0m \u001b[1;32mnot\u001b[0m \u001b[1;32mFalse\u001b[0m\u001b[1;33m\u001b[0m\u001b[0m\n\u001b[0;32m   1581\u001b[0m \u001b[1;33m\u001b[0m\u001b[0m\n\u001b[1;32m-> 1582\u001b[1;33m         \u001b[0mself\u001b[0m\u001b[1;33m.\u001b[0m\u001b[0m_reader\u001b[0m \u001b[1;33m=\u001b[0m \u001b[0mparsers\u001b[0m\u001b[1;33m.\u001b[0m\u001b[0mTextReader\u001b[0m\u001b[1;33m(\u001b[0m\u001b[0msrc\u001b[0m\u001b[1;33m,\u001b[0m \u001b[1;33m**\u001b[0m\u001b[0mkwds\u001b[0m\u001b[1;33m)\u001b[0m\u001b[1;33m\u001b[0m\u001b[0m\n\u001b[0m\u001b[0;32m   1583\u001b[0m \u001b[1;33m\u001b[0m\u001b[0m\n\u001b[0;32m   1584\u001b[0m         \u001b[1;31m# XXX\u001b[0m\u001b[1;33m\u001b[0m\u001b[1;33m\u001b[0m\u001b[0m\n",
      "\u001b[1;32mpandas\\_libs\\parsers.pyx\u001b[0m in \u001b[0;36mpandas._libs.parsers.TextReader.__cinit__ (pandas\\_libs\\parsers.c:4209)\u001b[1;34m()\u001b[0m\n",
      "\u001b[1;32mpandas\\_libs\\parsers.pyx\u001b[0m in \u001b[0;36mpandas._libs.parsers.TextReader._setup_parser_source (pandas\\_libs\\parsers.c:8873)\u001b[1;34m()\u001b[0m\n",
      "\u001b[1;31mFileNotFoundError\u001b[0m: File b'../data/processed/ensambling/lr.csv' does not exist"
     ]
    }
   ],
   "source": [
    "path = '../data/processed/ensambling/'\n",
    "\n",
    "# Se necesita de un archivo csv a modo de ejemplo para modificarlo totalmente, su contenido no será usado para nada.\n",
    "sample = pd.read_csv(path + 'novalidSample.csv', encoding='utf-8')\n",
    "\n",
    "\n",
    "#Machine learning\n",
    "dfLR = pd.read_csv(path + 'lr.csv', encoding='utf-8')\n",
    "dfLSVC = pd.read_csv(path + 'lsvc.csv', encoding='utf-8')\n",
    "dfNB = pd.read_csv(path + 'nb.csv', encoding='utf-8')\n",
    "dfSGD = pd.read_csv(path + 'sgd.csv', encoding='utf-8')\n",
    "dfDT = pd.read_csv(path + 'dt.csv', encoding='utf-8')\n",
    "\n",
    "#Deep Learning\n",
    "dfCNN = pd.read_csv(path + 'cnn.csv', encoding='utf-8')\n",
    "dfLSTM = pd.read_csv(path + 'lstm.csv', encoding='utf-8')"
   ]
  },
  {
   "cell_type": "code",
   "execution_count": 4,
   "metadata": {
    "collapsed": true
   },
   "outputs": [],
   "source": [
    "columns = ['toxic', 'severe_toxic', 'obscene', 'threat', 'insult', 'identity_hate']"
   ]
  },
  {
   "cell_type": "markdown",
   "metadata": {},
   "source": [
    "## Pesos para los diferentes algoritmos"
   ]
  },
  {
   "cell_type": "code",
   "execution_count": 5,
   "metadata": {
    "collapsed": true
   },
   "outputs": [],
   "source": [
    "wLR = 0.50\n",
    "wLSVC = 0.0\n",
    "wNB = 0.0\n",
    "wSGD = 0.0\n",
    "wDT = 0.0\n",
    "\n",
    "wCNN = 0.50\n",
    "wLSTM = 0.0"
   ]
  },
  {
   "cell_type": "code",
   "execution_count": 6,
   "metadata": {},
   "outputs": [
    {
     "name": "stdout",
     "output_type": "stream",
     "text": [
      "El peso total no es de 1. Es de --> 0.0\n"
     ]
    }
   ],
   "source": [
    "if dfLR is None:\n",
    "    dfLR = sample\n",
    "    wLR = 0.0\n",
    "if dfLSVC is None:\n",
    "    dfLSVC = sample\n",
    "    wLSVC = 0.0\n",
    "if dfNB is None:\n",
    "    dfNB = sample\n",
    "    wNB = 0.0\n",
    "if dfSGD is None:\n",
    "    dfSGD = sample\n",
    "    wSGD = 0.0\n",
    "if dfDT is None:\n",
    "    dfDT = sample\n",
    "    wDT = 0.0\n",
    "if dfCNN is None:\n",
    "    dfCNN = sample\n",
    "    wCNN = 0.0\n",
    "if dfLSTM is None:\n",
    "    dfLSTM = sample\n",
    "    wLSTM = 0.0\n",
    "\n",
    "wTotal = sum([wLR, wLSTM, wNB, wSGD, wDT, wCNN, wLSTM])\n",
    "if wTotal != 1.0:\n",
    "    print(\"El peso total no es de 1. Es de --> \" + str(wTotal))\n",
    "else:\n",
    "    print(\"El peso es correcto\")"
   ]
  },
  {
   "cell_type": "code",
   "execution_count": 7,
   "metadata": {
    "collapsed": true
   },
   "outputs": [],
   "source": [
    "dfEnd = sample.copy()\n",
    "dfEnd[columns] = (dfLR[columns] * wLR \n",
    "                  + dfLSVC[columns] * wLSVC \n",
    "                  + dfNB[columns] * wNB\n",
    "                  + dfSGD[columns] * wSGD\n",
    "                  + dfDT[columns] * wDT\n",
    "                  + dfCNN[columns] * wCNN\n",
    "                  + dfLSTM[columns] * wLSTM\n",
    "                 )"
   ]
  },
  {
   "cell_type": "markdown",
   "metadata": {},
   "source": [
    "> Exportación final del resputado"
   ]
  },
  {
   "cell_type": "code",
   "execution_count": 8,
   "metadata": {},
   "outputs": [],
   "source": [
    "name = \"ensambled\"\n",
    "dfEnd.to_csv(path + 'ensambled/' + name + '.csv', index=False)"
   ]
  },
  {
   "cell_type": "markdown",
   "metadata": {},
   "source": [
    "### Ensambling por correlación de las predicciones"
   ]
  },
  {
   "cell_type": "code",
   "execution_count": 9,
   "metadata": {
    "collapsed": true
   },
   "outputs": [],
   "source": [
    "coefDensidad = 0.1\n",
    "maxCorrelacion = 0.98\n",
    "\n",
    "# maxCorrelacion y coefDensidad Nunca puede ser superior a 1 o inferior a 0\n",
    "assert maxCorrelacion >= 0.0 and maxCorrelacion <= 1.0\n",
    "assert coefDensidad >= 0.0 and coefDensidad <= 1.0\n"
   ]
  },
  {
   "cell_type": "code",
   "execution_count": 11,
   "metadata": {},
   "outputs": [
    {
     "name": "stderr",
     "output_type": "stream",
     "text": [
      "\n",
      "  0%|          | 0/6 [00:00<?, ?it/s]C:\\Anaconda2\\envs\\py36\\lib\\site-packages\\tqdm\\_monitor.py:89: TqdmSynchronisationWarning: Set changed size during iteration (see https://github.com/tqdm/tqdm/issues/481)\n",
      "  TqdmSynchronisationWarning)\n"
     ]
    },
    {
     "name": "stdout",
     "output_type": "stream",
     "text": [
      "\n",
      "\n",
      " toxic\n",
      "\t DT_BOW.csv ensambled.csv\n",
      "\t LR_TFID.csv predTestLogistic1000.csv  (OVER CORR)\n",
      "\t NB_BOW158627.csv novalidSample.csv  (OVER CORR)\n",
      "\t predTestLinear10.csv predTestLogistic10.csv  (OVER CORR)\n",
      "\t SGD_TFID.csv SGD_TFID158627.csv  (OVER CORR)\n",
      "\t predTestNB10.csv predTestLinear10.csv_predTestLogistic10.csv  (OVER CORR)\n",
      "\t LR_TFID100000.csv LR_TFID50000.csv  (OVER CORR)\n",
      "\t ensambledTop2.csv predTestLSTM_Seq_100000.csv  (OVER CORR)\n",
      "\t predTestSGD10.csv predTestNB10.csv_predTestLinear10.csv_predTestLogistic10.csv  (OVER CORR)\n",
      "\t ensambledTopMRDL.csv LR_TFID100000.csv_LR_TFID50000.csv  (OVER CORR)\n",
      "\t LR_TFID.csv_predTestLogistic1000.csv ensambledTopMRDL.csv_LR_TFID100000.csv_LR_TFID50000.csv  (OVER CORR)\n",
      "\t NB_TFID.csv NB_TFID158627.csv  (OVER CORR)\n",
      "\t LR_TFID158627.csv LR_TFID.csv_predTestLogistic1000.csv_ensambledTopMRDL.csv_LR_TFID100000.csv_LR_TFID50000.csv  (OVER CORR)\n",
      "\t NB_BOW.csv NB_BOW158627.csv_novalidSample.csv  (OVER CORR)\n",
      "\t DT_TFID.csv DT_TFID158627.csv\n",
      "\t ensambledSame.csv LR_TFID158627.csv_LR_TFID.csv_predTestLogistic1000.csv_ensambledTopMRDL.csv_LR_TFID100000.csv_LR_TFID50000.csv\n",
      "\t ensambleddeepL.csv predTestCNN_Seq_100000.csv\n",
      "\t predTestDecisionTree10.csv predTestSGD10.csv_predTestNB10.csv_predTestLinear10.csv_predTestLogistic10.csv\n",
      "\t ensambledTop2.csv_predTestLSTM_Seq_100000.csv ensambledSame.csv_LR_TFID158627.csv_LR_TFID.csv_predTestLogistic1000.csv_ensambledTopMRDL.csv_LR_TFID100000.csv_LR_TFID50000.csv\n",
      "\t LR_BOW.csv SGD_BOW.csv\n",
      "\t DT_BOW.csv_ensambled.csv DT_TFID.csv_DT_TFID158627.csv\n",
      "\t ensambleddeepL.csv_predTestCNN_Seq_100000.csv ensambledTop2.csv_predTestLSTM_Seq_100000.csv_ensambledSame.csv_LR_TFID158627.csv_LR_TFID.csv_predTestLogistic1000.csv_ensambledTopMRDL.csv_LR_TFID100000.csv_LR_TFID50000.csv\n",
      "\t LSVC_TFID.csv LSVC_TFID158627.csv\n",
      "\t predTestLinear50.csv predTestSGD100.csv\n",
      "\t predTestSGD50.csv predTestLinear50.csv_predTestSGD100.csv\n",
      "\t predTestLinear100.csv predTestSGD50.csv_predTestLinear50.csv_predTestSGD100.csv\n",
      "\t predTestLinear200.csv predTestSGD200.csv\n",
      "\t predTestSGD1000.csv predTestLinear200.csv_predTestSGD200.csv\n",
      "\t predTestNB50.csv predTestLinear100.csv_predTestSGD50.csv_predTestLinear50.csv_predTestSGD100.csv\n",
      "\t ensambleddeepL.csv_predTestCNN_Seq_100000.csv_ensambledTop2.csv_predTestLSTM_Seq_100000.csv_ensambledSame.csv_LR_TFID158627.csv_LR_TFID.csv_predTestLogistic1000.csv_ensambledTopMRDL.csv_LR_TFID100000.csv_LR_TFID50000.csv LSVC_TFID.csv_LSVC_TFID158627.csv\n",
      "\t predTestNB100.csv predTestNB50.csv_predTestLinear100.csv_predTestSGD50.csv_predTestLinear50.csv_predTestSGD100.csv\n",
      "\t LR_BOW.csv_SGD_BOW.csv ensambleddeepL.csv_predTestCNN_Seq_100000.csv_ensambledTop2.csv_predTestLSTM_Seq_100000.csv_ensambledSame.csv_LR_TFID158627.csv_LR_TFID.csv_predTestLogistic1000.csv_ensambledTopMRDL.csv_LR_TFID100000.csv_LR_TFID50000.csv_LSVC_TFID.csv_LSVC_TFID158627.csv\n",
      "\t predTestDecisionTree50.csv predTestNB100.csv_predTestNB50.csv_predTestLinear100.csv_predTestSGD50.csv_predTestLinear50.csv_predTestSGD100.csv\n",
      "\t predTestNB200.csv predTestSGD1000.csv_predTestLinear200.csv_predTestSGD200.csv\n",
      "\t predTestLinear.csv predTestNB200.csv_predTestSGD1000.csv_predTestLinear200.csv_predTestSGD200.csv\n",
      "\t LSVC_BOW.csv LR_BOW.csv_SGD_BOW.csv_ensambleddeepL.csv_predTestCNN_Seq_100000.csv_ensambledTop2.csv_predTestLSTM_Seq_100000.csv_ensambledSame.csv_LR_TFID158627.csv_LR_TFID.csv_predTestLogistic1000.csv_ensambledTopMRDL.csv_LR_TFID100000.csv_LR_TFID50000.csv_LSVC_TFID.csv_LSVC_TFID158627.csv\n",
      "\t predTestDecisionTree50.csv_predTestNB100.csv_predTestNB50.csv_predTestLinear100.csv_predTestSGD50.csv_predTestLinear50.csv_predTestSGD100.csv predTestLinear.csv_predTestNB200.csv_predTestSGD1000.csv_predTestLinear200.csv_predTestSGD200.csv\n",
      "\t NB_BOW.csv_NB_BOW158627.csv_novalidSample.csv LSVC_BOW.csv_LR_BOW.csv_SGD_BOW.csv_ensambleddeepL.csv_predTestCNN_Seq_100000.csv_ensambledTop2.csv_predTestLSTM_Seq_100000.csv_ensambledSame.csv_LR_TFID158627.csv_LR_TFID.csv_predTestLogistic1000.csv_ensambledTopMRDL.csv_LR_TFID100000.csv_LR_TFID50000.csv_LSVC_TFID.csv_LSVC_TFID158627.csv\n",
      "\t SGD_TFID.csv_SGD_TFID158627.csv NB_BOW.csv_NB_BOW158627.csv_novalidSample.csv_LSVC_BOW.csv_LR_BOW.csv_SGD_BOW.csv_ensambleddeepL.csv_predTestCNN_Seq_100000.csv_ensambledTop2.csv_predTestLSTM_Seq_100000.csv_ensambledSame.csv_LR_TFID158627.csv_LR_TFID.csv_predTestLogistic1000.csv_ensambledTopMRDL.csv_LR_TFID100000.csv_LR_TFID50000.csv_LSVC_TFID.csv_LSVC_TFID158627.csv\n",
      "\t predTestDecisionTree100.csv predTestDecisionTree50.csv_predTestNB100.csv_predTestNB50.csv_predTestLinear100.csv_predTestSGD50.csv_predTestLinear50.csv_predTestSGD100.csv_predTestLinear.csv_predTestNB200.csv_predTestSGD1000.csv_predTestLinear200.csv_predTestSGD200.csv\n",
      "\t SGD_TFID.csv_SGD_TFID158627.csv_NB_BOW.csv_NB_BOW158627.csv_novalidSample.csv_LSVC_BOW.csv_LR_BOW.csv_SGD_BOW.csv_ensambleddeepL.csv_predTestCNN_Seq_100000.csv_ensambledTop2.csv_predTestLSTM_Seq_100000.csv_ensambledSame.csv_LR_TFID158627.csv_LR_TFID.csv_predTestLogistic1000.csv_ensambledTopMRDL.csv_LR_TFID100000.csv_LR_TFID50000.csv_LSVC_TFID.csv_LSVC_TFID158627.csv predTestDecisionTree100.csv_predTestDecisionTree50.csv_predTestNB100.csv_predTestNB50.csv_predTestLinear100.csv_predTestSGD50.csv_predTestLinear50.csv_predTestSGD100.csv_predTestLinear.csv_predTestNB200.csv_predTestSGD1000.csv_predTestLinear200.csv_predTestSGD200.csv\n",
      "\t predTestNB1000.csv SGD_TFID.csv_SGD_TFID158627.csv_NB_BOW.csv_NB_BOW158627.csv_novalidSample.csv_LSVC_BOW.csv_LR_BOW.csv_SGD_BOW.csv_ensambleddeepL.csv_predTestCNN_Seq_100000.csv_ensambledTop2.csv_predTestLSTM_Seq_100000.csv_ensambledSame.csv_LR_TFID158627.csv_LR_TFID.csv_predTestLogistic1000.csv_ensambledTopMRDL.csv_LR_TFID100000.csv_LR_TFID50000.csv_LSVC_TFID.csv_LSVC_TFID158627.csv_predTestDecisionTree100.csv_predTestDecisionTree50.csv_predTestNB100.csv_predTestNB50.csv_predTestLinear100.csv_predTestSGD50.csv_predTestLinear50.csv_predTestSGD100.csv_predTestLinear.csv_predTestNB200.csv_predTestSGD1000.csv_predTestLinear200.csv_predTestSGD200.csv\n",
      "\t predTestDecisionTree200.csv predTestNB1000.csv_SGD_TFID.csv_SGD_TFID158627.csv_NB_BOW.csv_NB_BOW158627.csv_novalidSample.csv_LSVC_BOW.csv_LR_BOW.csv_SGD_BOW.csv_ensambleddeepL.csv_predTestCNN_Seq_100000.csv_ensambledTop2.csv_predTestLSTM_Seq_100000.csv_ensambledSame.csv_LR_TFID158627.csv_LR_TFID.csv_predTestLogistic1000.csv_ensambledTopMRDL.csv_LR_TFID100000.csv_LR_TFID50000.csv_LSVC_TFID.csv_LSVC_TFID158627.csv_predTestDecisionTree100.csv_predTestDecisionTree50.csv_predTestNB100.csv_predTestNB50.csv_predTestLinear100.csv_predTestSGD50.csv_predTestLinear50.csv_predTestSGD100.csv_predTestLinear.csv_predTestNB200.csv_predTestSGD1000.csv_predTestLinear200.csv_predTestSGD200.csv\n",
      "\t DT_BOW.csv_ensambled.csv_DT_TFID.csv_DT_TFID158627.csv predTestDecisionTree200.csv_predTestNB1000.csv_SGD_TFID.csv_SGD_TFID158627.csv_NB_BOW.csv_NB_BOW158627.csv_novalidSample.csv_LSVC_BOW.csv_LR_BOW.csv_SGD_BOW.csv_ensambleddeepL.csv_predTestCNN_Seq_100000.csv_ensambledTop2.csv_predTestLSTM_Seq_100000.csv_ensambledSame.csv_LR_TFID158627.csv_LR_TFID.csv_predTestLogistic1000.csv_ensambledTopMRDL.csv_LR_TFID100000.csv_LR_TFID50000.csv_LSVC_TFID.csv_LSVC_TFID158627.csv_predTestDecisionTree100.csv_predTestDecisionTree50.csv_predTestNB100.csv_predTestNB50.csv_predTestLinear100.csv_predTestSGD50.csv_predTestLinear50.csv_predTestSGD100.csv_predTestLinear.csv_predTestNB200.csv_predTestSGD1000.csv_predTestLinear200.csv_predTestSGD200.csv\n",
      "\t NB_TFID.csv_NB_TFID158627.csv DT_BOW.csv_ensambled.csv_DT_TFID.csv_DT_TFID158627.csv_predTestDecisionTree200.csv_predTestNB1000.csv_SGD_TFID.csv_SGD_TFID158627.csv_NB_BOW.csv_NB_BOW158627.csv_novalidSample.csv_LSVC_BOW.csv_LR_BOW.csv_SGD_BOW.csv_ensambleddeepL.csv_predTestCNN_Seq_100000.csv_ensambledTop2.csv_predTestLSTM_Seq_100000.csv_ensambledSame.csv_LR_TFID158627.csv_LR_TFID.csv_predTestLogistic1000.csv_ensambledTopMRDL.csv_LR_TFID100000.csv_LR_TFID50000.csv_LSVC_TFID.csv_LSVC_TFID158627.csv_predTestDecisionTree100.csv_predTestDecisionTree50.csv_predTestNB100.csv_predTestNB50.csv_predTestLinear100.csv_predTestSGD50.csv_predTestLinear50.csv_predTestSGD100.csv_predTestLinear.csv_predTestNB200.csv_predTestSGD1000.csv_predTestLinear200.csv_predTestSGD200.csv\n",
      "\t predTestCNN1000.csv predTestLSTM50.csv\n"
     ]
    },
    {
     "name": "stdout",
     "output_type": "stream",
     "text": [
      "\t predTestDecisionTree10.csv_predTestSGD10.csv_predTestNB10.csv_predTestLinear10.csv_predTestLogistic10.csv NB_TFID.csv_NB_TFID158627.csv_DT_BOW.csv_ensambled.csv_DT_TFID.csv_DT_TFID158627.csv_predTestDecisionTree200.csv_predTestNB1000.csv_SGD_TFID.csv_SGD_TFID158627.csv_NB_BOW.csv_NB_BOW158627.csv_novalidSample.csv_LSVC_BOW.csv_LR_BOW.csv_SGD_BOW.csv_ensambleddeepL.csv_predTestCNN_Seq_100000.csv_ensambledTop2.csv_predTestLSTM_Seq_100000.csv_ensambledSame.csv_LR_TFID158627.csv_LR_TFID.csv_predTestLogistic1000.csv_ensambledTopMRDL.csv_LR_TFID100000.csv_LR_TFID50000.csv_LSVC_TFID.csv_LSVC_TFID158627.csv_predTestDecisionTree100.csv_predTestDecisionTree50.csv_predTestNB100.csv_predTestNB50.csv_predTestLinear100.csv_predTestSGD50.csv_predTestLinear50.csv_predTestSGD100.csv_predTestLinear.csv_predTestNB200.csv_predTestSGD1000.csv_predTestLinear200.csv_predTestSGD200.csv\n",
      "\t predTestCNN200.csv predTestCNN1000.csv_predTestLSTM50.csv\n",
      "\t predTestDecisionTree10.csv_predTestSGD10.csv_predTestNB10.csv_predTestLinear10.csv_predTestLogistic10.csv_NB_TFID.csv_NB_TFID158627.csv_DT_BOW.csv_ensambled.csv_DT_TFID.csv_DT_TFID158627.csv_predTestDecisionTree200.csv_predTestNB1000.csv_SGD_TFID.csv_SGD_TFID158627.csv_NB_BOW.csv_NB_BOW158627.csv_novalidSample.csv_LSVC_BOW.csv_LR_BOW.csv_SGD_BOW.csv_ensambleddeepL.csv_predTestCNN_Seq_100000.csv_ensambledTop2.csv_predTestLSTM_Seq_100000.csv_ensambledSame.csv_LR_TFID158627.csv_LR_TFID.csv_predTestLogistic1000.csv_ensambledTopMRDL.csv_LR_TFID100000.csv_LR_TFID50000.csv_LSVC_TFID.csv_LSVC_TFID158627.csv_predTestDecisionTree100.csv_predTestDecisionTree50.csv_predTestNB100.csv_predTestNB50.csv_predTestLinear100.csv_predTestSGD50.csv_predTestLinear50.csv_predTestSGD100.csv_predTestLinear.csv_predTestNB200.csv_predTestSGD1000.csv_predTestLinear200.csv_predTestSGD200.csv predTestCNN200.csv_predTestCNN1000.csv_predTestLSTM50.csv\n",
      "\t predTestLSTM1000.csv predTestDecisionTree10.csv_predTestSGD10.csv_predTestNB10.csv_predTestLinear10.csv_predTestLogistic10.csv_NB_TFID.csv_NB_TFID158627.csv_DT_BOW.csv_ensambled.csv_DT_TFID.csv_DT_TFID158627.csv_predTestDecisionTree200.csv_predTestNB1000.csv_SGD_TFID.csv_SGD_TFID158627.csv_NB_BOW.csv_NB_BOW158627.csv_novalidSample.csv_LSVC_BOW.csv_LR_BOW.csv_SGD_BOW.csv_ensambleddeepL.csv_predTestCNN_Seq_100000.csv_ensambledTop2.csv_predTestLSTM_Seq_100000.csv_ensambledSame.csv_LR_TFID158627.csv_LR_TFID.csv_predTestLogistic1000.csv_ensambledTopMRDL.csv_LR_TFID100000.csv_LR_TFID50000.csv_LSVC_TFID.csv_LSVC_TFID158627.csv_predTestDecisionTree100.csv_predTestDecisionTree50.csv_predTestNB100.csv_predTestNB50.csv_predTestLinear100.csv_predTestSGD50.csv_predTestLinear50.csv_predTestSGD100.csv_predTestLinear.csv_predTestNB200.csv_predTestSGD1000.csv_predTestLinear200.csv_predTestSGD200.csv_predTestCNN200.csv_predTestCNN1000.csv_predTestLSTM50.csv\n",
      "\t predTestCNNW2C1000.csv predTestLSTM1000.csv_predTestDecisionTree10.csv_predTestSGD10.csv_predTestNB10.csv_predTestLinear10.csv_predTestLogistic10.csv_NB_TFID.csv_NB_TFID158627.csv_DT_BOW.csv_ensambled.csv_DT_TFID.csv_DT_TFID158627.csv_predTestDecisionTree200.csv_predTestNB1000.csv_SGD_TFID.csv_SGD_TFID158627.csv_NB_BOW.csv_NB_BOW158627.csv_novalidSample.csv_LSVC_BOW.csv_LR_BOW.csv_SGD_BOW.csv_ensambleddeepL.csv_predTestCNN_Seq_100000.csv_ensambledTop2.csv_predTestLSTM_Seq_100000.csv_ensambledSame.csv_LR_TFID158627.csv_LR_TFID.csv_predTestLogistic1000.csv_ensambledTopMRDL.csv_LR_TFID100000.csv_LR_TFID50000.csv_LSVC_TFID.csv_LSVC_TFID158627.csv_predTestDecisionTree100.csv_predTestDecisionTree50.csv_predTestNB100.csv_predTestNB50.csv_predTestLinear100.csv_predTestSGD50.csv_predTestLinear50.csv_predTestSGD100.csv_predTestLinear.csv_predTestNB200.csv_predTestSGD1000.csv_predTestLinear200.csv_predTestSGD200.csv_predTestCNN200.csv_predTestCNN1000.csv_predTestLSTM50.csv\n"
     ]
    },
    {
     "name": "stderr",
     "output_type": "stream",
     "text": [
      "\n",
      " 17%|█▋        | 1/6 [01:20<06:43, 80.72s/it]"
     ]
    },
    {
     "name": "stdout",
     "output_type": "stream",
     "text": [
      "\n",
      "\n",
      " severe_toxic\n",
      "\t DT_BOW.csv ensambled.csv\n",
      "\t DT_TFID.csv predTestSGD10.csv\n",
      "\t DT_TFID158627.csv predTestSGD100.csv\n",
      "\t ensambleddeepL.csv predTestSGD1000.csv\n",
      "\t ensambledSame.csv predTestSGD200.csv\n",
      "\t ensambledTop2.csv predTestSGD50.csv\n",
      "\t LR_TFID.csv predTestLogistic1000.csv  (OVER CORR)\n",
      "\t NB_BOW158627.csv novalidSample.csv  (OVER CORR)\n",
      "\t predTestLinear10.csv predTestLogistic10.csv  (OVER CORR)\n",
      "\t SGD_TFID.csv SGD_TFID158627.csv  (OVER CORR)\n",
      "\t LR_TFID100000.csv LR_TFID50000.csv  (OVER CORR)\n",
      "\t ensambledTopMRDL.csv LR_TFID100000.csv_LR_TFID50000.csv\n",
      "\t LR_TFID158627.csv ensambledTopMRDL.csv_LR_TFID100000.csv_LR_TFID50000.csv\n",
      "\t LR_TFID.csv_predTestLogistic1000.csv LR_TFID158627.csv_ensambledTopMRDL.csv_LR_TFID100000.csv_LR_TFID50000.csv\n",
      "\t NB_BOW.csv NB_BOW158627.csv_novalidSample.csv\n",
      "\t NB_TFID.csv NB_TFID158627.csv\n",
      "\t predTestLSTM_Seq_100000.csv ensambledTop2.csv_predTestSGD50.csv\n",
      "\t ensambledSame.csv_predTestSGD200.csv LR_TFID.csv_predTestLogistic1000.csv_LR_TFID158627.csv_ensambledTopMRDL.csv_LR_TFID100000.csv_LR_TFID50000.csv\n",
      "\t predTestCNN_Seq_100000.csv ensambleddeepL.csv_predTestSGD1000.csv\n",
      "\t DT_TFID.csv_predTestSGD10.csv DT_TFID158627.csv_predTestSGD100.csv\n",
      "\t predTestLSTM_Seq_100000.csv_ensambledTop2.csv_predTestSGD50.csv predTestCNN_Seq_100000.csv_ensambleddeepL.csv_predTestSGD1000.csv\n",
      "\t ensambledSame.csv_predTestSGD200.csv_LR_TFID.csv_predTestLogistic1000.csv_LR_TFID158627.csv_ensambledTopMRDL.csv_LR_TFID100000.csv_LR_TFID50000.csv predTestLSTM_Seq_100000.csv_ensambledTop2.csv_predTestSGD50.csv_predTestCNN_Seq_100000.csv_ensambleddeepL.csv_predTestSGD1000.csv\n",
      "\t NB_BOW.csv_NB_BOW158627.csv_novalidSample.csv ensambledSame.csv_predTestSGD200.csv_LR_TFID.csv_predTestLogistic1000.csv_LR_TFID158627.csv_ensambledTopMRDL.csv_LR_TFID100000.csv_LR_TFID50000.csv_predTestLSTM_Seq_100000.csv_ensambledTop2.csv_predTestSGD50.csv_predTestCNN_Seq_100000.csv_ensambleddeepL.csv_predTestSGD1000.csv\n",
      "\t LSVC_TFID.csv LSVC_TFID158627.csv\n",
      "\t predTestNB100.csv predTestNB200.csv\n",
      "\t DT_BOW.csv_ensambled.csv DT_TFID.csv_predTestSGD10.csv_DT_TFID158627.csv_predTestSGD100.csv\n",
      "\t predTestNB1000.csv predTestNB100.csv_predTestNB200.csv\n",
      "\t SGD_TFID.csv_SGD_TFID158627.csv NB_BOW.csv_NB_BOW158627.csv_novalidSample.csv_ensambledSame.csv_predTestSGD200.csv_LR_TFID.csv_predTestLogistic1000.csv_LR_TFID158627.csv_ensambledTopMRDL.csv_LR_TFID100000.csv_LR_TFID50000.csv_predTestLSTM_Seq_100000.csv_ensambledTop2.csv_predTestSGD50.csv_predTestCNN_Seq_100000.csv_ensambleddeepL.csv_predTestSGD1000.csv\n",
      "\t LR_BOW.csv SGD_BOW.csv\n",
      "\t predTestNB50.csv predTestNB1000.csv_predTestNB100.csv_predTestNB200.csv\n",
      "\t LSVC_TFID.csv_LSVC_TFID158627.csv SGD_TFID.csv_SGD_TFID158627.csv_NB_BOW.csv_NB_BOW158627.csv_novalidSample.csv_ensambledSame.csv_predTestSGD200.csv_LR_TFID.csv_predTestLogistic1000.csv_LR_TFID158627.csv_ensambledTopMRDL.csv_LR_TFID100000.csv_LR_TFID50000.csv_predTestLSTM_Seq_100000.csv_ensambledTop2.csv_predTestSGD50.csv_predTestCNN_Seq_100000.csv_ensambleddeepL.csv_predTestSGD1000.csv\n",
      "\t predTestNB50.csv_predTestNB1000.csv_predTestNB100.csv_predTestNB200.csv LSVC_TFID.csv_LSVC_TFID158627.csv_SGD_TFID.csv_SGD_TFID158627.csv_NB_BOW.csv_NB_BOW158627.csv_novalidSample.csv_ensambledSame.csv_predTestSGD200.csv_LR_TFID.csv_predTestLogistic1000.csv_LR_TFID158627.csv_ensambledTopMRDL.csv_LR_TFID100000.csv_LR_TFID50000.csv_predTestLSTM_Seq_100000.csv_ensambledTop2.csv_predTestSGD50.csv_predTestCNN_Seq_100000.csv_ensambleddeepL.csv_predTestSGD1000.csv\n",
      "\t DT_BOW.csv_ensambled.csv_DT_TFID.csv_predTestSGD10.csv_DT_TFID158627.csv_predTestSGD100.csv predTestNB50.csv_predTestNB1000.csv_predTestNB100.csv_predTestNB200.csv_LSVC_TFID.csv_LSVC_TFID158627.csv_SGD_TFID.csv_SGD_TFID158627.csv_NB_BOW.csv_NB_BOW158627.csv_novalidSample.csv_ensambledSame.csv_predTestSGD200.csv_LR_TFID.csv_predTestLogistic1000.csv_LR_TFID158627.csv_ensambledTopMRDL.csv_LR_TFID100000.csv_LR_TFID50000.csv_predTestLSTM_Seq_100000.csv_ensambledTop2.csv_predTestSGD50.csv_predTestCNN_Seq_100000.csv_ensambleddeepL.csv_predTestSGD1000.csv\n",
      "\t predTestLinear100.csv predTestLinear200.csv\n",
      "\t predTestLinear.csv DT_BOW.csv_ensambled.csv_DT_TFID.csv_predTestSGD10.csv_DT_TFID158627.csv_predTestSGD100.csv_predTestNB50.csv_predTestNB1000.csv_predTestNB100.csv_predTestNB200.csv_LSVC_TFID.csv_LSVC_TFID158627.csv_SGD_TFID.csv_SGD_TFID158627.csv_NB_BOW.csv_NB_BOW158627.csv_novalidSample.csv_ensambledSame.csv_predTestSGD200.csv_LR_TFID.csv_predTestLogistic1000.csv_LR_TFID158627.csv_ensambledTopMRDL.csv_LR_TFID100000.csv_LR_TFID50000.csv_predTestLSTM_Seq_100000.csv_ensambledTop2.csv_predTestSGD50.csv_predTestCNN_Seq_100000.csv_ensambleddeepL.csv_predTestSGD1000.csv\n",
      "\t predTestCNN1000.csv predTestLSTM50.csv\n",
      "\t LR_BOW.csv_SGD_BOW.csv predTestLinear.csv_DT_BOW.csv_ensambled.csv_DT_TFID.csv_predTestSGD10.csv_DT_TFID158627.csv_predTestSGD100.csv_predTestNB50.csv_predTestNB1000.csv_predTestNB100.csv_predTestNB200.csv_LSVC_TFID.csv_LSVC_TFID158627.csv_SGD_TFID.csv_SGD_TFID158627.csv_NB_BOW.csv_NB_BOW158627.csv_novalidSample.csv_ensambledSame.csv_predTestSGD200.csv_LR_TFID.csv_predTestLogistic1000.csv_LR_TFID158627.csv_ensambledTopMRDL.csv_LR_TFID100000.csv_LR_TFID50000.csv_predTestLSTM_Seq_100000.csv_ensambledTop2.csv_predTestSGD50.csv_predTestCNN_Seq_100000.csv_ensambleddeepL.csv_predTestSGD1000.csv\n",
      "\t NB_TFID.csv_NB_TFID158627.csv LR_BOW.csv_SGD_BOW.csv_predTestLinear.csv_DT_BOW.csv_ensambled.csv_DT_TFID.csv_predTestSGD10.csv_DT_TFID158627.csv_predTestSGD100.csv_predTestNB50.csv_predTestNB1000.csv_predTestNB100.csv_predTestNB200.csv_LSVC_TFID.csv_LSVC_TFID158627.csv_SGD_TFID.csv_SGD_TFID158627.csv_NB_BOW.csv_NB_BOW158627.csv_novalidSample.csv_ensambledSame.csv_predTestSGD200.csv_LR_TFID.csv_predTestLogistic1000.csv_LR_TFID158627.csv_ensambledTopMRDL.csv_LR_TFID100000.csv_LR_TFID50000.csv_predTestLSTM_Seq_100000.csv_ensambledTop2.csv_predTestSGD50.csv_predTestCNN_Seq_100000.csv_ensambleddeepL.csv_predTestSGD1000.csv\n",
      "\t LSVC_BOW.csv NB_TFID.csv_NB_TFID158627.csv_LR_BOW.csv_SGD_BOW.csv_predTestLinear.csv_DT_BOW.csv_ensambled.csv_DT_TFID.csv_predTestSGD10.csv_DT_TFID158627.csv_predTestSGD100.csv_predTestNB50.csv_predTestNB1000.csv_predTestNB100.csv_predTestNB200.csv_LSVC_TFID.csv_LSVC_TFID158627.csv_SGD_TFID.csv_SGD_TFID158627.csv_NB_BOW.csv_NB_BOW158627.csv_novalidSample.csv_ensambledSame.csv_predTestSGD200.csv_LR_TFID.csv_predTestLogistic1000.csv_LR_TFID158627.csv_ensambledTopMRDL.csv_LR_TFID100000.csv_LR_TFID50000.csv_predTestLSTM_Seq_100000.csv_ensambledTop2.csv_predTestSGD50.csv_predTestCNN_Seq_100000.csv_ensambleddeepL.csv_predTestSGD1000.csv\n",
      "\t predTestCNN200.csv predTestCNN1000.csv_predTestLSTM50.csv\n",
      "\t predTestDecisionTree100.csv predTestDecisionTree50.csv\n",
      "\t LSVC_BOW.csv_NB_TFID.csv_NB_TFID158627.csv_LR_BOW.csv_SGD_BOW.csv_predTestLinear.csv_DT_BOW.csv_ensambled.csv_DT_TFID.csv_predTestSGD10.csv_DT_TFID158627.csv_predTestSGD100.csv_predTestNB50.csv_predTestNB1000.csv_predTestNB100.csv_predTestNB200.csv_LSVC_TFID.csv_LSVC_TFID158627.csv_SGD_TFID.csv_SGD_TFID158627.csv_NB_BOW.csv_NB_BOW158627.csv_novalidSample.csv_ensambledSame.csv_predTestSGD200.csv_LR_TFID.csv_predTestLogistic1000.csv_LR_TFID158627.csv_ensambledTopMRDL.csv_LR_TFID100000.csv_LR_TFID50000.csv_predTestLSTM_Seq_100000.csv_ensambledTop2.csv_predTestSGD50.csv_predTestCNN_Seq_100000.csv_ensambleddeepL.csv_predTestSGD1000.csv predTestDecisionTree100.csv_predTestDecisionTree50.csv\n",
      "\t predTestDecisionTree200.csv LSVC_BOW.csv_NB_TFID.csv_NB_TFID158627.csv_LR_BOW.csv_SGD_BOW.csv_predTestLinear.csv_DT_BOW.csv_ensambled.csv_DT_TFID.csv_predTestSGD10.csv_DT_TFID158627.csv_predTestSGD100.csv_predTestNB50.csv_predTestNB1000.csv_predTestNB100.csv_predTestNB200.csv_LSVC_TFID.csv_LSVC_TFID158627.csv_SGD_TFID.csv_SGD_TFID158627.csv_NB_BOW.csv_NB_BOW158627.csv_novalidSample.csv_ensambledSame.csv_predTestSGD200.csv_LR_TFID.csv_predTestLogistic1000.csv_LR_TFID158627.csv_ensambledTopMRDL.csv_LR_TFID100000.csv_LR_TFID50000.csv_predTestLSTM_Seq_100000.csv_ensambledTop2.csv_predTestSGD50.csv_predTestCNN_Seq_100000.csv_ensambleddeepL.csv_predTestSGD1000.csv_predTestDecisionTree100.csv_predTestDecisionTree50.csv\n",
      "\t predTestNB10.csv predTestLinear10.csv_predTestLogistic10.csv\n"
     ]
    },
    {
     "name": "stdout",
     "output_type": "stream",
     "text": [
      "\t predTestLinear100.csv_predTestLinear200.csv predTestDecisionTree200.csv_LSVC_BOW.csv_NB_TFID.csv_NB_TFID158627.csv_LR_BOW.csv_SGD_BOW.csv_predTestLinear.csv_DT_BOW.csv_ensambled.csv_DT_TFID.csv_predTestSGD10.csv_DT_TFID158627.csv_predTestSGD100.csv_predTestNB50.csv_predTestNB1000.csv_predTestNB100.csv_predTestNB200.csv_LSVC_TFID.csv_LSVC_TFID158627.csv_SGD_TFID.csv_SGD_TFID158627.csv_NB_BOW.csv_NB_BOW158627.csv_novalidSample.csv_ensambledSame.csv_predTestSGD200.csv_LR_TFID.csv_predTestLogistic1000.csv_LR_TFID158627.csv_ensambledTopMRDL.csv_LR_TFID100000.csv_LR_TFID50000.csv_predTestLSTM_Seq_100000.csv_ensambledTop2.csv_predTestSGD50.csv_predTestCNN_Seq_100000.csv_ensambleddeepL.csv_predTestSGD1000.csv_predTestDecisionTree100.csv_predTestDecisionTree50.csv\n",
      "\t predTestCNN200.csv_predTestCNN1000.csv_predTestLSTM50.csv predTestLinear100.csv_predTestLinear200.csv_predTestDecisionTree200.csv_LSVC_BOW.csv_NB_TFID.csv_NB_TFID158627.csv_LR_BOW.csv_SGD_BOW.csv_predTestLinear.csv_DT_BOW.csv_ensambled.csv_DT_TFID.csv_predTestSGD10.csv_DT_TFID158627.csv_predTestSGD100.csv_predTestNB50.csv_predTestNB1000.csv_predTestNB100.csv_predTestNB200.csv_LSVC_TFID.csv_LSVC_TFID158627.csv_SGD_TFID.csv_SGD_TFID158627.csv_NB_BOW.csv_NB_BOW158627.csv_novalidSample.csv_ensambledSame.csv_predTestSGD200.csv_LR_TFID.csv_predTestLogistic1000.csv_LR_TFID158627.csv_ensambledTopMRDL.csv_LR_TFID100000.csv_LR_TFID50000.csv_predTestLSTM_Seq_100000.csv_ensambledTop2.csv_predTestSGD50.csv_predTestCNN_Seq_100000.csv_ensambleddeepL.csv_predTestSGD1000.csv_predTestDecisionTree100.csv_predTestDecisionTree50.csv\n",
      "\t predTestNB10.csv_predTestLinear10.csv_predTestLogistic10.csv predTestCNN200.csv_predTestCNN1000.csv_predTestLSTM50.csv_predTestLinear100.csv_predTestLinear200.csv_predTestDecisionTree200.csv_LSVC_BOW.csv_NB_TFID.csv_NB_TFID158627.csv_LR_BOW.csv_SGD_BOW.csv_predTestLinear.csv_DT_BOW.csv_ensambled.csv_DT_TFID.csv_predTestSGD10.csv_DT_TFID158627.csv_predTestSGD100.csv_predTestNB50.csv_predTestNB1000.csv_predTestNB100.csv_predTestNB200.csv_LSVC_TFID.csv_LSVC_TFID158627.csv_SGD_TFID.csv_SGD_TFID158627.csv_NB_BOW.csv_NB_BOW158627.csv_novalidSample.csv_ensambledSame.csv_predTestSGD200.csv_LR_TFID.csv_predTestLogistic1000.csv_LR_TFID158627.csv_ensambledTopMRDL.csv_LR_TFID100000.csv_LR_TFID50000.csv_predTestLSTM_Seq_100000.csv_ensambledTop2.csv_predTestSGD50.csv_predTestCNN_Seq_100000.csv_ensambleddeepL.csv_predTestSGD1000.csv_predTestDecisionTree100.csv_predTestDecisionTree50.csv\n",
      "\t predTestDecisionTree10.csv predTestNB10.csv_predTestLinear10.csv_predTestLogistic10.csv_predTestCNN200.csv_predTestCNN1000.csv_predTestLSTM50.csv_predTestLinear100.csv_predTestLinear200.csv_predTestDecisionTree200.csv_LSVC_BOW.csv_NB_TFID.csv_NB_TFID158627.csv_LR_BOW.csv_SGD_BOW.csv_predTestLinear.csv_DT_BOW.csv_ensambled.csv_DT_TFID.csv_predTestSGD10.csv_DT_TFID158627.csv_predTestSGD100.csv_predTestNB50.csv_predTestNB1000.csv_predTestNB100.csv_predTestNB200.csv_LSVC_TFID.csv_LSVC_TFID158627.csv_SGD_TFID.csv_SGD_TFID158627.csv_NB_BOW.csv_NB_BOW158627.csv_novalidSample.csv_ensambledSame.csv_predTestSGD200.csv_LR_TFID.csv_predTestLogistic1000.csv_LR_TFID158627.csv_ensambledTopMRDL.csv_LR_TFID100000.csv_LR_TFID50000.csv_predTestLSTM_Seq_100000.csv_ensambledTop2.csv_predTestSGD50.csv_predTestCNN_Seq_100000.csv_ensambleddeepL.csv_predTestSGD1000.csv_predTestDecisionTree100.csv_predTestDecisionTree50.csv\n",
      "\t predTestLinear50.csv predTestDecisionTree10.csv_predTestNB10.csv_predTestLinear10.csv_predTestLogistic10.csv_predTestCNN200.csv_predTestCNN1000.csv_predTestLSTM50.csv_predTestLinear100.csv_predTestLinear200.csv_predTestDecisionTree200.csv_LSVC_BOW.csv_NB_TFID.csv_NB_TFID158627.csv_LR_BOW.csv_SGD_BOW.csv_predTestLinear.csv_DT_BOW.csv_ensambled.csv_DT_TFID.csv_predTestSGD10.csv_DT_TFID158627.csv_predTestSGD100.csv_predTestNB50.csv_predTestNB1000.csv_predTestNB100.csv_predTestNB200.csv_LSVC_TFID.csv_LSVC_TFID158627.csv_SGD_TFID.csv_SGD_TFID158627.csv_NB_BOW.csv_NB_BOW158627.csv_novalidSample.csv_ensambledSame.csv_predTestSGD200.csv_LR_TFID.csv_predTestLogistic1000.csv_LR_TFID158627.csv_ensambledTopMRDL.csv_LR_TFID100000.csv_LR_TFID50000.csv_predTestLSTM_Seq_100000.csv_ensambledTop2.csv_predTestSGD50.csv_predTestCNN_Seq_100000.csv_ensambleddeepL.csv_predTestSGD1000.csv_predTestDecisionTree100.csv_predTestDecisionTree50.csv\n",
      "\t predTestLSTM1000.csv predTestLinear50.csv_predTestDecisionTree10.csv_predTestNB10.csv_predTestLinear10.csv_predTestLogistic10.csv_predTestCNN200.csv_predTestCNN1000.csv_predTestLSTM50.csv_predTestLinear100.csv_predTestLinear200.csv_predTestDecisionTree200.csv_LSVC_BOW.csv_NB_TFID.csv_NB_TFID158627.csv_LR_BOW.csv_SGD_BOW.csv_predTestLinear.csv_DT_BOW.csv_ensambled.csv_DT_TFID.csv_predTestSGD10.csv_DT_TFID158627.csv_predTestSGD100.csv_predTestNB50.csv_predTestNB1000.csv_predTestNB100.csv_predTestNB200.csv_LSVC_TFID.csv_LSVC_TFID158627.csv_SGD_TFID.csv_SGD_TFID158627.csv_NB_BOW.csv_NB_BOW158627.csv_novalidSample.csv_ensambledSame.csv_predTestSGD200.csv_LR_TFID.csv_predTestLogistic1000.csv_LR_TFID158627.csv_ensambledTopMRDL.csv_LR_TFID100000.csv_LR_TFID50000.csv_predTestLSTM_Seq_100000.csv_ensambledTop2.csv_predTestSGD50.csv_predTestCNN_Seq_100000.csv_ensambleddeepL.csv_predTestSGD1000.csv_predTestDecisionTree100.csv_predTestDecisionTree50.csv\n",
      "\t predTestCNNW2C1000.csv predTestLSTM1000.csv_predTestLinear50.csv_predTestDecisionTree10.csv_predTestNB10.csv_predTestLinear10.csv_predTestLogistic10.csv_predTestCNN200.csv_predTestCNN1000.csv_predTestLSTM50.csv_predTestLinear100.csv_predTestLinear200.csv_predTestDecisionTree200.csv_LSVC_BOW.csv_NB_TFID.csv_NB_TFID158627.csv_LR_BOW.csv_SGD_BOW.csv_predTestLinear.csv_DT_BOW.csv_ensambled.csv_DT_TFID.csv_predTestSGD10.csv_DT_TFID158627.csv_predTestSGD100.csv_predTestNB50.csv_predTestNB1000.csv_predTestNB100.csv_predTestNB200.csv_LSVC_TFID.csv_LSVC_TFID158627.csv_SGD_TFID.csv_SGD_TFID158627.csv_NB_BOW.csv_NB_BOW158627.csv_novalidSample.csv_ensambledSame.csv_predTestSGD200.csv_LR_TFID.csv_predTestLogistic1000.csv_LR_TFID158627.csv_ensambledTopMRDL.csv_LR_TFID100000.csv_LR_TFID50000.csv_predTestLSTM_Seq_100000.csv_ensambledTop2.csv_predTestSGD50.csv_predTestCNN_Seq_100000.csv_ensambleddeepL.csv_predTestSGD1000.csv_predTestDecisionTree100.csv_predTestDecisionTree50.csv\n"
     ]
    },
    {
     "name": "stderr",
     "output_type": "stream",
     "text": [
      "\n",
      " 33%|███▎      | 2/6 [02:48<05:36, 84.22s/it]"
     ]
    },
    {
     "name": "stdout",
     "output_type": "stream",
     "text": [
      "\n",
      "\n",
      " obscene\n",
      "\t DT_BOW.csv ensambled.csv\n",
      "\t LR_TFID.csv predTestLogistic1000.csv  (OVER CORR)\n",
      "\t NB_BOW158627.csv novalidSample.csv  (OVER CORR)\n",
      "\t predTestLinear10.csv predTestLogistic10.csv  (OVER CORR)\n",
      "\t SGD_TFID.csv SGD_TFID158627.csv  (OVER CORR)\n",
      "\t LR_TFID100000.csv LR_TFID50000.csv  (OVER CORR)\n",
      "\t ensambledTop2.csv predTestLSTM_Seq_100000.csv  (OVER CORR)\n",
      "\t ensambledTopMRDL.csv LR_TFID100000.csv_LR_TFID50000.csv  (OVER CORR)\n",
      "\t predTestNB10.csv predTestLinear10.csv_predTestLogistic10.csv  (OVER CORR)\n",
      "\t LR_TFID158627.csv ensambledTopMRDL.csv_LR_TFID100000.csv_LR_TFID50000.csv  (OVER CORR)\n",
      "\t NB_TFID.csv NB_TFID158627.csv  (OVER CORR)\n",
      "\t DT_TFID.csv DT_TFID158627.csv  (OVER CORR)\n",
      "\t LR_TFID.csv_predTestLogistic1000.csv LR_TFID158627.csv_ensambledTopMRDL.csv_LR_TFID100000.csv_LR_TFID50000.csv  (OVER CORR)\n",
      "\t ensambledSame.csv LR_TFID.csv_predTestLogistic1000.csv_LR_TFID158627.csv_ensambledTopMRDL.csv_LR_TFID100000.csv_LR_TFID50000.csv\n",
      "\t ensambleddeepL.csv ensambledTop2.csv_predTestLSTM_Seq_100000.csv\n",
      "\t NB_BOW.csv NB_BOW158627.csv_novalidSample.csv\n",
      "\t predTestSGD10.csv predTestNB10.csv_predTestLinear10.csv_predTestLogistic10.csv\n",
      "\t predTestDecisionTree10.csv predTestSGD10.csv_predTestNB10.csv_predTestLinear10.csv_predTestLogistic10.csv\n",
      "\t predTestLinear100.csv predTestSGD100.csv\n",
      "\t DT_BOW.csv_ensambled.csv DT_TFID.csv_DT_TFID158627.csv\n",
      "\t ensambledSame.csv_LR_TFID.csv_predTestLogistic1000.csv_LR_TFID158627.csv_ensambledTopMRDL.csv_LR_TFID100000.csv_LR_TFID50000.csv ensambleddeepL.csv_ensambledTop2.csv_predTestLSTM_Seq_100000.csv\n",
      "\t predTestLinear50.csv predTestLinear100.csv_predTestSGD100.csv\n",
      "\t predTestSGD50.csv predTestLinear50.csv_predTestLinear100.csv_predTestSGD100.csv\n",
      "\t predTestLinear200.csv predTestSGD200.csv\n",
      "\t predTestCNN_Seq_100000.csv ensambledSame.csv_LR_TFID.csv_predTestLogistic1000.csv_LR_TFID158627.csv_ensambledTopMRDL.csv_LR_TFID100000.csv_LR_TFID50000.csv_ensambleddeepL.csv_ensambledTop2.csv_predTestLSTM_Seq_100000.csv\n",
      "\t LSVC_TFID.csv LSVC_TFID158627.csv\n",
      "\t predTestSGD1000.csv predTestLinear200.csv_predTestSGD200.csv\n",
      "\t predTestNB50.csv predTestSGD50.csv_predTestLinear50.csv_predTestLinear100.csv_predTestSGD100.csv\n",
      "\t predTestLinear.csv predTestSGD1000.csv_predTestLinear200.csv_predTestSGD200.csv\n",
      "\t predTestNB100.csv predTestNB50.csv_predTestSGD50.csv_predTestLinear50.csv_predTestLinear100.csv_predTestSGD100.csv\n",
      "\t predTestDecisionTree50.csv predTestNB100.csv_predTestNB50.csv_predTestSGD50.csv_predTestLinear50.csv_predTestLinear100.csv_predTestSGD100.csv\n",
      "\t predTestCNN_Seq_100000.csv_ensambledSame.csv_LR_TFID.csv_predTestLogistic1000.csv_LR_TFID158627.csv_ensambledTopMRDL.csv_LR_TFID100000.csv_LR_TFID50000.csv_ensambleddeepL.csv_ensambledTop2.csv_predTestLSTM_Seq_100000.csv LSVC_TFID.csv_LSVC_TFID158627.csv\n",
      "\t DT_BOW.csv_ensambled.csv_DT_TFID.csv_DT_TFID158627.csv predTestLinear.csv_predTestSGD1000.csv_predTestLinear200.csv_predTestSGD200.csv\n",
      "\t predTestDecisionTree50.csv_predTestNB100.csv_predTestNB50.csv_predTestSGD50.csv_predTestLinear50.csv_predTestLinear100.csv_predTestSGD100.csv DT_BOW.csv_ensambled.csv_DT_TFID.csv_DT_TFID158627.csv_predTestLinear.csv_predTestSGD1000.csv_predTestLinear200.csv_predTestSGD200.csv\n",
      "\t LR_BOW.csv SGD_BOW.csv\n",
      "\t predTestDecisionTree50.csv_predTestNB100.csv_predTestNB50.csv_predTestSGD50.csv_predTestLinear50.csv_predTestLinear100.csv_predTestSGD100.csv_DT_BOW.csv_ensambled.csv_DT_TFID.csv_DT_TFID158627.csv_predTestLinear.csv_predTestSGD1000.csv_predTestLinear200.csv_predTestSGD200.csv LR_BOW.csv_SGD_BOW.csv\n",
      "\t predTestCNN_Seq_100000.csv_ensambledSame.csv_LR_TFID.csv_predTestLogistic1000.csv_LR_TFID158627.csv_ensambledTopMRDL.csv_LR_TFID100000.csv_LR_TFID50000.csv_ensambleddeepL.csv_ensambledTop2.csv_predTestLSTM_Seq_100000.csv_LSVC_TFID.csv_LSVC_TFID158627.csv predTestDecisionTree50.csv_predTestNB100.csv_predTestNB50.csv_predTestSGD50.csv_predTestLinear50.csv_predTestLinear100.csv_predTestSGD100.csv_DT_BOW.csv_ensambled.csv_DT_TFID.csv_DT_TFID158627.csv_predTestLinear.csv_predTestSGD1000.csv_predTestLinear200.csv_predTestSGD200.csv_LR_BOW.csv_SGD_BOW.csv\n",
      "\t predTestNB200.csv predTestCNN_Seq_100000.csv_ensambledSame.csv_LR_TFID.csv_predTestLogistic1000.csv_LR_TFID158627.csv_ensambledTopMRDL.csv_LR_TFID100000.csv_LR_TFID50000.csv_ensambleddeepL.csv_ensambledTop2.csv_predTestLSTM_Seq_100000.csv_LSVC_TFID.csv_LSVC_TFID158627.csv_predTestDecisionTree50.csv_predTestNB100.csv_predTestNB50.csv_predTestSGD50.csv_predTestLinear50.csv_predTestLinear100.csv_predTestSGD100.csv_DT_BOW.csv_ensambled.csv_DT_TFID.csv_DT_TFID158627.csv_predTestLinear.csv_predTestSGD1000.csv_predTestLinear200.csv_predTestSGD200.csv_LR_BOW.csv_SGD_BOW.csv\n",
      "\t SGD_TFID.csv_SGD_TFID158627.csv predTestNB200.csv_predTestCNN_Seq_100000.csv_ensambledSame.csv_LR_TFID.csv_predTestLogistic1000.csv_LR_TFID158627.csv_ensambledTopMRDL.csv_LR_TFID100000.csv_LR_TFID50000.csv_ensambleddeepL.csv_ensambledTop2.csv_predTestLSTM_Seq_100000.csv_LSVC_TFID.csv_LSVC_TFID158627.csv_predTestDecisionTree50.csv_predTestNB100.csv_predTestNB50.csv_predTestSGD50.csv_predTestLinear50.csv_predTestLinear100.csv_predTestSGD100.csv_DT_BOW.csv_ensambled.csv_DT_TFID.csv_DT_TFID158627.csv_predTestLinear.csv_predTestSGD1000.csv_predTestLinear200.csv_predTestSGD200.csv_LR_BOW.csv_SGD_BOW.csv\n",
      "\t predTestDecisionTree200.csv SGD_TFID.csv_SGD_TFID158627.csv_predTestNB200.csv_predTestCNN_Seq_100000.csv_ensambledSame.csv_LR_TFID.csv_predTestLogistic1000.csv_LR_TFID158627.csv_ensambledTopMRDL.csv_LR_TFID100000.csv_LR_TFID50000.csv_ensambleddeepL.csv_ensambledTop2.csv_predTestLSTM_Seq_100000.csv_LSVC_TFID.csv_LSVC_TFID158627.csv_predTestDecisionTree50.csv_predTestNB100.csv_predTestNB50.csv_predTestSGD50.csv_predTestLinear50.csv_predTestLinear100.csv_predTestSGD100.csv_DT_BOW.csv_ensambled.csv_DT_TFID.csv_DT_TFID158627.csv_predTestLinear.csv_predTestSGD1000.csv_predTestLinear200.csv_predTestSGD200.csv_LR_BOW.csv_SGD_BOW.csv\n",
      "\t predTestDecisionTree100.csv predTestDecisionTree200.csv_SGD_TFID.csv_SGD_TFID158627.csv_predTestNB200.csv_predTestCNN_Seq_100000.csv_ensambledSame.csv_LR_TFID.csv_predTestLogistic1000.csv_LR_TFID158627.csv_ensambledTopMRDL.csv_LR_TFID100000.csv_LR_TFID50000.csv_ensambleddeepL.csv_ensambledTop2.csv_predTestLSTM_Seq_100000.csv_LSVC_TFID.csv_LSVC_TFID158627.csv_predTestDecisionTree50.csv_predTestNB100.csv_predTestNB50.csv_predTestSGD50.csv_predTestLinear50.csv_predTestLinear100.csv_predTestSGD100.csv_DT_BOW.csv_ensambled.csv_DT_TFID.csv_DT_TFID158627.csv_predTestLinear.csv_predTestSGD1000.csv_predTestLinear200.csv_predTestSGD200.csv_LR_BOW.csv_SGD_BOW.csv\n",
      "\t predTestNB1000.csv predTestDecisionTree100.csv_predTestDecisionTree200.csv_SGD_TFID.csv_SGD_TFID158627.csv_predTestNB200.csv_predTestCNN_Seq_100000.csv_ensambledSame.csv_LR_TFID.csv_predTestLogistic1000.csv_LR_TFID158627.csv_ensambledTopMRDL.csv_LR_TFID100000.csv_LR_TFID50000.csv_ensambleddeepL.csv_ensambledTop2.csv_predTestLSTM_Seq_100000.csv_LSVC_TFID.csv_LSVC_TFID158627.csv_predTestDecisionTree50.csv_predTestNB100.csv_predTestNB50.csv_predTestSGD50.csv_predTestLinear50.csv_predTestLinear100.csv_predTestSGD100.csv_DT_BOW.csv_ensambled.csv_DT_TFID.csv_DT_TFID158627.csv_predTestLinear.csv_predTestSGD1000.csv_predTestLinear200.csv_predTestSGD200.csv_LR_BOW.csv_SGD_BOW.csv\n",
      "\t LSVC_BOW.csv predTestNB1000.csv_predTestDecisionTree100.csv_predTestDecisionTree200.csv_SGD_TFID.csv_SGD_TFID158627.csv_predTestNB200.csv_predTestCNN_Seq_100000.csv_ensambledSame.csv_LR_TFID.csv_predTestLogistic1000.csv_LR_TFID158627.csv_ensambledTopMRDL.csv_LR_TFID100000.csv_LR_TFID50000.csv_ensambleddeepL.csv_ensambledTop2.csv_predTestLSTM_Seq_100000.csv_LSVC_TFID.csv_LSVC_TFID158627.csv_predTestDecisionTree50.csv_predTestNB100.csv_predTestNB50.csv_predTestSGD50.csv_predTestLinear50.csv_predTestLinear100.csv_predTestSGD100.csv_DT_BOW.csv_ensambled.csv_DT_TFID.csv_DT_TFID158627.csv_predTestLinear.csv_predTestSGD1000.csv_predTestLinear200.csv_predTestSGD200.csv_LR_BOW.csv_SGD_BOW.csv\n"
     ]
    },
    {
     "name": "stdout",
     "output_type": "stream",
     "text": [
      "\t NB_BOW.csv_NB_BOW158627.csv_novalidSample.csv LSVC_BOW.csv_predTestNB1000.csv_predTestDecisionTree100.csv_predTestDecisionTree200.csv_SGD_TFID.csv_SGD_TFID158627.csv_predTestNB200.csv_predTestCNN_Seq_100000.csv_ensambledSame.csv_LR_TFID.csv_predTestLogistic1000.csv_LR_TFID158627.csv_ensambledTopMRDL.csv_LR_TFID100000.csv_LR_TFID50000.csv_ensambleddeepL.csv_ensambledTop2.csv_predTestLSTM_Seq_100000.csv_LSVC_TFID.csv_LSVC_TFID158627.csv_predTestDecisionTree50.csv_predTestNB100.csv_predTestNB50.csv_predTestSGD50.csv_predTestLinear50.csv_predTestLinear100.csv_predTestSGD100.csv_DT_BOW.csv_ensambled.csv_DT_TFID.csv_DT_TFID158627.csv_predTestLinear.csv_predTestSGD1000.csv_predTestLinear200.csv_predTestSGD200.csv_LR_BOW.csv_SGD_BOW.csv\n",
      "\t NB_TFID.csv_NB_TFID158627.csv NB_BOW.csv_NB_BOW158627.csv_novalidSample.csv_LSVC_BOW.csv_predTestNB1000.csv_predTestDecisionTree100.csv_predTestDecisionTree200.csv_SGD_TFID.csv_SGD_TFID158627.csv_predTestNB200.csv_predTestCNN_Seq_100000.csv_ensambledSame.csv_LR_TFID.csv_predTestLogistic1000.csv_LR_TFID158627.csv_ensambledTopMRDL.csv_LR_TFID100000.csv_LR_TFID50000.csv_ensambleddeepL.csv_ensambledTop2.csv_predTestLSTM_Seq_100000.csv_LSVC_TFID.csv_LSVC_TFID158627.csv_predTestDecisionTree50.csv_predTestNB100.csv_predTestNB50.csv_predTestSGD50.csv_predTestLinear50.csv_predTestLinear100.csv_predTestSGD100.csv_DT_BOW.csv_ensambled.csv_DT_TFID.csv_DT_TFID158627.csv_predTestLinear.csv_predTestSGD1000.csv_predTestLinear200.csv_predTestSGD200.csv_LR_BOW.csv_SGD_BOW.csv\n",
      "\t predTestCNN1000.csv predTestLSTM50.csv\n",
      "\t predTestDecisionTree10.csv_predTestSGD10.csv_predTestNB10.csv_predTestLinear10.csv_predTestLogistic10.csv NB_TFID.csv_NB_TFID158627.csv_NB_BOW.csv_NB_BOW158627.csv_novalidSample.csv_LSVC_BOW.csv_predTestNB1000.csv_predTestDecisionTree100.csv_predTestDecisionTree200.csv_SGD_TFID.csv_SGD_TFID158627.csv_predTestNB200.csv_predTestCNN_Seq_100000.csv_ensambledSame.csv_LR_TFID.csv_predTestLogistic1000.csv_LR_TFID158627.csv_ensambledTopMRDL.csv_LR_TFID100000.csv_LR_TFID50000.csv_ensambleddeepL.csv_ensambledTop2.csv_predTestLSTM_Seq_100000.csv_LSVC_TFID.csv_LSVC_TFID158627.csv_predTestDecisionTree50.csv_predTestNB100.csv_predTestNB50.csv_predTestSGD50.csv_predTestLinear50.csv_predTestLinear100.csv_predTestSGD100.csv_DT_BOW.csv_ensambled.csv_DT_TFID.csv_DT_TFID158627.csv_predTestLinear.csv_predTestSGD1000.csv_predTestLinear200.csv_predTestSGD200.csv_LR_BOW.csv_SGD_BOW.csv\n",
      "\t predTestCNN200.csv predTestCNN1000.csv_predTestLSTM50.csv\n",
      "\t predTestDecisionTree10.csv_predTestSGD10.csv_predTestNB10.csv_predTestLinear10.csv_predTestLogistic10.csv_NB_TFID.csv_NB_TFID158627.csv_NB_BOW.csv_NB_BOW158627.csv_novalidSample.csv_LSVC_BOW.csv_predTestNB1000.csv_predTestDecisionTree100.csv_predTestDecisionTree200.csv_SGD_TFID.csv_SGD_TFID158627.csv_predTestNB200.csv_predTestCNN_Seq_100000.csv_ensambledSame.csv_LR_TFID.csv_predTestLogistic1000.csv_LR_TFID158627.csv_ensambledTopMRDL.csv_LR_TFID100000.csv_LR_TFID50000.csv_ensambleddeepL.csv_ensambledTop2.csv_predTestLSTM_Seq_100000.csv_LSVC_TFID.csv_LSVC_TFID158627.csv_predTestDecisionTree50.csv_predTestNB100.csv_predTestNB50.csv_predTestSGD50.csv_predTestLinear50.csv_predTestLinear100.csv_predTestSGD100.csv_DT_BOW.csv_ensambled.csv_DT_TFID.csv_DT_TFID158627.csv_predTestLinear.csv_predTestSGD1000.csv_predTestLinear200.csv_predTestSGD200.csv_LR_BOW.csv_SGD_BOW.csv predTestCNN200.csv_predTestCNN1000.csv_predTestLSTM50.csv\n",
      "\t predTestLSTM1000.csv predTestDecisionTree10.csv_predTestSGD10.csv_predTestNB10.csv_predTestLinear10.csv_predTestLogistic10.csv_NB_TFID.csv_NB_TFID158627.csv_NB_BOW.csv_NB_BOW158627.csv_novalidSample.csv_LSVC_BOW.csv_predTestNB1000.csv_predTestDecisionTree100.csv_predTestDecisionTree200.csv_SGD_TFID.csv_SGD_TFID158627.csv_predTestNB200.csv_predTestCNN_Seq_100000.csv_ensambledSame.csv_LR_TFID.csv_predTestLogistic1000.csv_LR_TFID158627.csv_ensambledTopMRDL.csv_LR_TFID100000.csv_LR_TFID50000.csv_ensambleddeepL.csv_ensambledTop2.csv_predTestLSTM_Seq_100000.csv_LSVC_TFID.csv_LSVC_TFID158627.csv_predTestDecisionTree50.csv_predTestNB100.csv_predTestNB50.csv_predTestSGD50.csv_predTestLinear50.csv_predTestLinear100.csv_predTestSGD100.csv_DT_BOW.csv_ensambled.csv_DT_TFID.csv_DT_TFID158627.csv_predTestLinear.csv_predTestSGD1000.csv_predTestLinear200.csv_predTestSGD200.csv_LR_BOW.csv_SGD_BOW.csv_predTestCNN200.csv_predTestCNN1000.csv_predTestLSTM50.csv\n",
      "\t predTestCNNW2C1000.csv predTestLSTM1000.csv_predTestDecisionTree10.csv_predTestSGD10.csv_predTestNB10.csv_predTestLinear10.csv_predTestLogistic10.csv_NB_TFID.csv_NB_TFID158627.csv_NB_BOW.csv_NB_BOW158627.csv_novalidSample.csv_LSVC_BOW.csv_predTestNB1000.csv_predTestDecisionTree100.csv_predTestDecisionTree200.csv_SGD_TFID.csv_SGD_TFID158627.csv_predTestNB200.csv_predTestCNN_Seq_100000.csv_ensambledSame.csv_LR_TFID.csv_predTestLogistic1000.csv_LR_TFID158627.csv_ensambledTopMRDL.csv_LR_TFID100000.csv_LR_TFID50000.csv_ensambleddeepL.csv_ensambledTop2.csv_predTestLSTM_Seq_100000.csv_LSVC_TFID.csv_LSVC_TFID158627.csv_predTestDecisionTree50.csv_predTestNB100.csv_predTestNB50.csv_predTestSGD50.csv_predTestLinear50.csv_predTestLinear100.csv_predTestSGD100.csv_DT_BOW.csv_ensambled.csv_DT_TFID.csv_DT_TFID158627.csv_predTestLinear.csv_predTestSGD1000.csv_predTestLinear200.csv_predTestSGD200.csv_LR_BOW.csv_SGD_BOW.csv_predTestCNN200.csv_predTestCNN1000.csv_predTestLSTM50.csv\n"
     ]
    },
    {
     "name": "stderr",
     "output_type": "stream",
     "text": [
      "\n",
      " 50%|█████     | 3/6 [04:12<04:12, 84.12s/it]"
     ]
    },
    {
     "name": "stdout",
     "output_type": "stream",
     "text": [
      "\n",
      "\n",
      " threat\n",
      "\t DT_BOW.csv ensambled.csv\n",
      "\t DT_TFID.csv predTestLinear10.csv\n",
      "\t DT_TFID158627.csv predTestLinear100.csv\n",
      "\t ensambleddeepL.csv predTestLinear50.csv\n",
      "\t ensambledSame.csv predTestLogistic10.csv\n",
      "\t ensambledTop2.csv predTestNB10.csv\n",
      "\t ensambledTopMRDL.csv predTestSGD10.csv\n",
      "\t LR_BOW.csv predTestSGD100.csv\n",
      "\t LR_TFID.csv predTestSGD1000.csv\n",
      "\t LR_TFID100000.csv predTestSGD200.csv\n",
      "\t LR_TFID158627.csv predTestSGD50.csv\n",
      "\t NB_BOW158627.csv novalidSample.csv  (OVER CORR)\n",
      "\t predTestLogistic1000.csv LR_TFID.csv_predTestSGD1000.csv  (OVER CORR)\n",
      "\t SGD_TFID.csv SGD_TFID158627.csv  (OVER CORR)\n",
      "\t ensambledTopMRDL.csv_predTestSGD10.csv LR_TFID100000.csv_predTestSGD200.csv  (OVER CORR)\n",
      "\t LR_TFID50000.csv ensambledTopMRDL.csv_predTestSGD10.csv_LR_TFID100000.csv_predTestSGD200.csv  (OVER CORR)\n",
      "\t predTestCNN_Seq_100000.csv ensambleddeepL.csv_predTestLinear50.csv\n",
      "\t predTestLogistic1000.csv_LR_TFID.csv_predTestSGD1000.csv LR_TFID50000.csv_ensambledTopMRDL.csv_predTestSGD10.csv_LR_TFID100000.csv_predTestSGD200.csv\n",
      "\t NB_TFID.csv NB_TFID158627.csv\n",
      "\t LR_TFID158627.csv_predTestSGD50.csv predTestLogistic1000.csv_LR_TFID.csv_predTestSGD1000.csv_LR_TFID50000.csv_ensambledTopMRDL.csv_predTestSGD10.csv_LR_TFID100000.csv_predTestSGD200.csv\n",
      "\t DT_TFID.csv_predTestLinear10.csv DT_TFID158627.csv_predTestLinear100.csv\n",
      "\t ensambledSame.csv_predTestLogistic10.csv LR_TFID158627.csv_predTestSGD50.csv_predTestLogistic1000.csv_LR_TFID.csv_predTestSGD1000.csv_LR_TFID50000.csv_ensambledTopMRDL.csv_predTestSGD10.csv_LR_TFID100000.csv_predTestSGD200.csv\n",
      "\t LSVC_TFID.csv LSVC_TFID158627.csv\n",
      "\t ensambledTop2.csv_predTestNB10.csv ensambledSame.csv_predTestLogistic10.csv_LR_TFID158627.csv_predTestSGD50.csv_predTestLogistic1000.csv_LR_TFID.csv_predTestSGD1000.csv_LR_TFID50000.csv_ensambledTopMRDL.csv_predTestSGD10.csv_LR_TFID100000.csv_predTestSGD200.csv\n",
      "\t LSVC_TFID.csv_LSVC_TFID158627.csv ensambledTop2.csv_predTestNB10.csv_ensambledSame.csv_predTestLogistic10.csv_LR_TFID158627.csv_predTestSGD50.csv_predTestLogistic1000.csv_LR_TFID.csv_predTestSGD1000.csv_LR_TFID50000.csv_ensambledTopMRDL.csv_predTestSGD10.csv_LR_TFID100000.csv_predTestSGD200.csv\n",
      "\t NB_BOW.csv NB_BOW158627.csv_novalidSample.csv\n",
      "\t SGD_TFID.csv_SGD_TFID158627.csv LSVC_TFID.csv_LSVC_TFID158627.csv_ensambledTop2.csv_predTestNB10.csv_ensambledSame.csv_predTestLogistic10.csv_LR_TFID158627.csv_predTestSGD50.csv_predTestLogistic1000.csv_LR_TFID.csv_predTestSGD1000.csv_LR_TFID50000.csv_ensambledTopMRDL.csv_predTestSGD10.csv_LR_TFID100000.csv_predTestSGD200.csv\n",
      "\t predTestLSTM_Seq_100000.csv predTestCNN_Seq_100000.csv_ensambleddeepL.csv_predTestLinear50.csv\n",
      "\t SGD_BOW.csv LR_BOW.csv_predTestSGD100.csv\n",
      "\t predTestCNN1000.csv predTestLSTM50.csv\n",
      "\t DT_BOW.csv_ensambled.csv DT_TFID.csv_predTestLinear10.csv_DT_TFID158627.csv_predTestLinear100.csv\n",
      "\t SGD_TFID.csv_SGD_TFID158627.csv_LSVC_TFID.csv_LSVC_TFID158627.csv_ensambledTop2.csv_predTestNB10.csv_ensambledSame.csv_predTestLogistic10.csv_LR_TFID158627.csv_predTestSGD50.csv_predTestLogistic1000.csv_LR_TFID.csv_predTestSGD1000.csv_LR_TFID50000.csv_ensambledTopMRDL.csv_predTestSGD10.csv_LR_TFID100000.csv_predTestSGD200.csv DT_BOW.csv_ensambled.csv_DT_TFID.csv_predTestLinear10.csv_DT_TFID158627.csv_predTestLinear100.csv\n",
      "\t predTestNB100.csv predTestNB50.csv\n",
      "\t predTestNB200.csv predTestNB100.csv_predTestNB50.csv\n",
      "\t predTestNB1000.csv predTestNB200.csv_predTestNB100.csv_predTestNB50.csv\n",
      "\t predTestLinear.csv SGD_TFID.csv_SGD_TFID158627.csv_LSVC_TFID.csv_LSVC_TFID158627.csv_ensambledTop2.csv_predTestNB10.csv_ensambledSame.csv_predTestLogistic10.csv_LR_TFID158627.csv_predTestSGD50.csv_predTestLogistic1000.csv_LR_TFID.csv_predTestSGD1000.csv_LR_TFID50000.csv_ensambledTopMRDL.csv_predTestSGD10.csv_LR_TFID100000.csv_predTestSGD200.csv_DT_BOW.csv_ensambled.csv_DT_TFID.csv_predTestLinear10.csv_DT_TFID158627.csv_predTestLinear100.csv\n",
      "\t LSVC_BOW.csv predTestLinear.csv_SGD_TFID.csv_SGD_TFID158627.csv_LSVC_TFID.csv_LSVC_TFID158627.csv_ensambledTop2.csv_predTestNB10.csv_ensambledSame.csv_predTestLogistic10.csv_LR_TFID158627.csv_predTestSGD50.csv_predTestLogistic1000.csv_LR_TFID.csv_predTestSGD1000.csv_LR_TFID50000.csv_ensambledTopMRDL.csv_predTestSGD10.csv_LR_TFID100000.csv_predTestSGD200.csv_DT_BOW.csv_ensambled.csv_DT_TFID.csv_predTestLinear10.csv_DT_TFID158627.csv_predTestLinear100.csv\n",
      "\t SGD_BOW.csv_LR_BOW.csv_predTestSGD100.csv LSVC_BOW.csv_predTestLinear.csv_SGD_TFID.csv_SGD_TFID158627.csv_LSVC_TFID.csv_LSVC_TFID158627.csv_ensambledTop2.csv_predTestNB10.csv_ensambledSame.csv_predTestLogistic10.csv_LR_TFID158627.csv_predTestSGD50.csv_predTestLogistic1000.csv_LR_TFID.csv_predTestSGD1000.csv_LR_TFID50000.csv_ensambledTopMRDL.csv_predTestSGD10.csv_LR_TFID100000.csv_predTestSGD200.csv_DT_BOW.csv_ensambled.csv_DT_TFID.csv_predTestLinear10.csv_DT_TFID158627.csv_predTestLinear100.csv\n",
      "\t predTestCNN200.csv predTestCNN1000.csv_predTestLSTM50.csv\n",
      "\t NB_TFID.csv_NB_TFID158627.csv predTestLSTM_Seq_100000.csv_predTestCNN_Seq_100000.csv_ensambleddeepL.csv_predTestLinear50.csv\n",
      "\t NB_BOW.csv_NB_BOW158627.csv_novalidSample.csv SGD_BOW.csv_LR_BOW.csv_predTestSGD100.csv_LSVC_BOW.csv_predTestLinear.csv_SGD_TFID.csv_SGD_TFID158627.csv_LSVC_TFID.csv_LSVC_TFID158627.csv_ensambledTop2.csv_predTestNB10.csv_ensambledSame.csv_predTestLogistic10.csv_LR_TFID158627.csv_predTestSGD50.csv_predTestLogistic1000.csv_LR_TFID.csv_predTestSGD1000.csv_LR_TFID50000.csv_ensambledTopMRDL.csv_predTestSGD10.csv_LR_TFID100000.csv_predTestSGD200.csv_DT_BOW.csv_ensambled.csv_DT_TFID.csv_predTestLinear10.csv_DT_TFID158627.csv_predTestLinear100.csv\n",
      "\t predTestCNN200.csv_predTestCNN1000.csv_predTestLSTM50.csv NB_TFID.csv_NB_TFID158627.csv_predTestLSTM_Seq_100000.csv_predTestCNN_Seq_100000.csv_ensambleddeepL.csv_predTestLinear50.csv\n",
      "\t NB_BOW.csv_NB_BOW158627.csv_novalidSample.csv_SGD_BOW.csv_LR_BOW.csv_predTestSGD100.csv_LSVC_BOW.csv_predTestLinear.csv_SGD_TFID.csv_SGD_TFID158627.csv_LSVC_TFID.csv_LSVC_TFID158627.csv_ensambledTop2.csv_predTestNB10.csv_ensambledSame.csv_predTestLogistic10.csv_LR_TFID158627.csv_predTestSGD50.csv_predTestLogistic1000.csv_LR_TFID.csv_predTestSGD1000.csv_LR_TFID50000.csv_ensambledTopMRDL.csv_predTestSGD10.csv_LR_TFID100000.csv_predTestSGD200.csv_DT_BOW.csv_ensambled.csv_DT_TFID.csv_predTestLinear10.csv_DT_TFID158627.csv_predTestLinear100.csv predTestCNN200.csv_predTestCNN1000.csv_predTestLSTM50.csv_NB_TFID.csv_NB_TFID158627.csv_predTestLSTM_Seq_100000.csv_predTestCNN_Seq_100000.csv_ensambleddeepL.csv_predTestLinear50.csv\n",
      "\t predTestDecisionTree200.csv NB_BOW.csv_NB_BOW158627.csv_novalidSample.csv_SGD_BOW.csv_LR_BOW.csv_predTestSGD100.csv_LSVC_BOW.csv_predTestLinear.csv_SGD_TFID.csv_SGD_TFID158627.csv_LSVC_TFID.csv_LSVC_TFID158627.csv_ensambledTop2.csv_predTestNB10.csv_ensambledSame.csv_predTestLogistic10.csv_LR_TFID158627.csv_predTestSGD50.csv_predTestLogistic1000.csv_LR_TFID.csv_predTestSGD1000.csv_LR_TFID50000.csv_ensambledTopMRDL.csv_predTestSGD10.csv_LR_TFID100000.csv_predTestSGD200.csv_DT_BOW.csv_ensambled.csv_DT_TFID.csv_predTestLinear10.csv_DT_TFID158627.csv_predTestLinear100.csv_predTestCNN200.csv_predTestCNN1000.csv_predTestLSTM50.csv_NB_TFID.csv_NB_TFID158627.csv_predTestLSTM_Seq_100000.csv_predTestCNN_Seq_100000.csv_ensambleddeepL.csv_predTestLinear50.csv\n",
      "\t predTestDecisionTree100.csv predTestDecisionTree50.csv\n",
      "\t predTestNB1000.csv_predTestNB200.csv_predTestNB100.csv_predTestNB50.csv predTestDecisionTree200.csv_NB_BOW.csv_NB_BOW158627.csv_novalidSample.csv_SGD_BOW.csv_LR_BOW.csv_predTestSGD100.csv_LSVC_BOW.csv_predTestLinear.csv_SGD_TFID.csv_SGD_TFID158627.csv_LSVC_TFID.csv_LSVC_TFID158627.csv_ensambledTop2.csv_predTestNB10.csv_ensambledSame.csv_predTestLogistic10.csv_LR_TFID158627.csv_predTestSGD50.csv_predTestLogistic1000.csv_LR_TFID.csv_predTestSGD1000.csv_LR_TFID50000.csv_ensambledTopMRDL.csv_predTestSGD10.csv_LR_TFID100000.csv_predTestSGD200.csv_DT_BOW.csv_ensambled.csv_DT_TFID.csv_predTestLinear10.csv_DT_TFID158627.csv_predTestLinear100.csv_predTestCNN200.csv_predTestCNN1000.csv_predTestLSTM50.csv_NB_TFID.csv_NB_TFID158627.csv_predTestLSTM_Seq_100000.csv_predTestCNN_Seq_100000.csv_ensambleddeepL.csv_predTestLinear50.csv\n"
     ]
    },
    {
     "name": "stdout",
     "output_type": "stream",
     "text": [
      "\t predTestDecisionTree100.csv_predTestDecisionTree50.csv predTestNB1000.csv_predTestNB200.csv_predTestNB100.csv_predTestNB50.csv_predTestDecisionTree200.csv_NB_BOW.csv_NB_BOW158627.csv_novalidSample.csv_SGD_BOW.csv_LR_BOW.csv_predTestSGD100.csv_LSVC_BOW.csv_predTestLinear.csv_SGD_TFID.csv_SGD_TFID158627.csv_LSVC_TFID.csv_LSVC_TFID158627.csv_ensambledTop2.csv_predTestNB10.csv_ensambledSame.csv_predTestLogistic10.csv_LR_TFID158627.csv_predTestSGD50.csv_predTestLogistic1000.csv_LR_TFID.csv_predTestSGD1000.csv_LR_TFID50000.csv_ensambledTopMRDL.csv_predTestSGD10.csv_LR_TFID100000.csv_predTestSGD200.csv_DT_BOW.csv_ensambled.csv_DT_TFID.csv_predTestLinear10.csv_DT_TFID158627.csv_predTestLinear100.csv_predTestCNN200.csv_predTestCNN1000.csv_predTestLSTM50.csv_NB_TFID.csv_NB_TFID158627.csv_predTestLSTM_Seq_100000.csv_predTestCNN_Seq_100000.csv_ensambleddeepL.csv_predTestLinear50.csv\n",
      "\t predTestLinear200.csv predTestDecisionTree100.csv_predTestDecisionTree50.csv_predTestNB1000.csv_predTestNB200.csv_predTestNB100.csv_predTestNB50.csv_predTestDecisionTree200.csv_NB_BOW.csv_NB_BOW158627.csv_novalidSample.csv_SGD_BOW.csv_LR_BOW.csv_predTestSGD100.csv_LSVC_BOW.csv_predTestLinear.csv_SGD_TFID.csv_SGD_TFID158627.csv_LSVC_TFID.csv_LSVC_TFID158627.csv_ensambledTop2.csv_predTestNB10.csv_ensambledSame.csv_predTestLogistic10.csv_LR_TFID158627.csv_predTestSGD50.csv_predTestLogistic1000.csv_LR_TFID.csv_predTestSGD1000.csv_LR_TFID50000.csv_ensambledTopMRDL.csv_predTestSGD10.csv_LR_TFID100000.csv_predTestSGD200.csv_DT_BOW.csv_ensambled.csv_DT_TFID.csv_predTestLinear10.csv_DT_TFID158627.csv_predTestLinear100.csv_predTestCNN200.csv_predTestCNN1000.csv_predTestLSTM50.csv_NB_TFID.csv_NB_TFID158627.csv_predTestLSTM_Seq_100000.csv_predTestCNN_Seq_100000.csv_ensambleddeepL.csv_predTestLinear50.csv\n",
      "\t predTestDecisionTree10.csv predTestLinear200.csv_predTestDecisionTree100.csv_predTestDecisionTree50.csv_predTestNB1000.csv_predTestNB200.csv_predTestNB100.csv_predTestNB50.csv_predTestDecisionTree200.csv_NB_BOW.csv_NB_BOW158627.csv_novalidSample.csv_SGD_BOW.csv_LR_BOW.csv_predTestSGD100.csv_LSVC_BOW.csv_predTestLinear.csv_SGD_TFID.csv_SGD_TFID158627.csv_LSVC_TFID.csv_LSVC_TFID158627.csv_ensambledTop2.csv_predTestNB10.csv_ensambledSame.csv_predTestLogistic10.csv_LR_TFID158627.csv_predTestSGD50.csv_predTestLogistic1000.csv_LR_TFID.csv_predTestSGD1000.csv_LR_TFID50000.csv_ensambledTopMRDL.csv_predTestSGD10.csv_LR_TFID100000.csv_predTestSGD200.csv_DT_BOW.csv_ensambled.csv_DT_TFID.csv_predTestLinear10.csv_DT_TFID158627.csv_predTestLinear100.csv_predTestCNN200.csv_predTestCNN1000.csv_predTestLSTM50.csv_NB_TFID.csv_NB_TFID158627.csv_predTestLSTM_Seq_100000.csv_predTestCNN_Seq_100000.csv_ensambleddeepL.csv_predTestLinear50.csv\n",
      "\t predTestLSTM1000.csv predTestDecisionTree10.csv_predTestLinear200.csv_predTestDecisionTree100.csv_predTestDecisionTree50.csv_predTestNB1000.csv_predTestNB200.csv_predTestNB100.csv_predTestNB50.csv_predTestDecisionTree200.csv_NB_BOW.csv_NB_BOW158627.csv_novalidSample.csv_SGD_BOW.csv_LR_BOW.csv_predTestSGD100.csv_LSVC_BOW.csv_predTestLinear.csv_SGD_TFID.csv_SGD_TFID158627.csv_LSVC_TFID.csv_LSVC_TFID158627.csv_ensambledTop2.csv_predTestNB10.csv_ensambledSame.csv_predTestLogistic10.csv_LR_TFID158627.csv_predTestSGD50.csv_predTestLogistic1000.csv_LR_TFID.csv_predTestSGD1000.csv_LR_TFID50000.csv_ensambledTopMRDL.csv_predTestSGD10.csv_LR_TFID100000.csv_predTestSGD200.csv_DT_BOW.csv_ensambled.csv_DT_TFID.csv_predTestLinear10.csv_DT_TFID158627.csv_predTestLinear100.csv_predTestCNN200.csv_predTestCNN1000.csv_predTestLSTM50.csv_NB_TFID.csv_NB_TFID158627.csv_predTestLSTM_Seq_100000.csv_predTestCNN_Seq_100000.csv_ensambleddeepL.csv_predTestLinear50.csv\n",
      "\t predTestCNNW2C1000.csv predTestLSTM1000.csv_predTestDecisionTree10.csv_predTestLinear200.csv_predTestDecisionTree100.csv_predTestDecisionTree50.csv_predTestNB1000.csv_predTestNB200.csv_predTestNB100.csv_predTestNB50.csv_predTestDecisionTree200.csv_NB_BOW.csv_NB_BOW158627.csv_novalidSample.csv_SGD_BOW.csv_LR_BOW.csv_predTestSGD100.csv_LSVC_BOW.csv_predTestLinear.csv_SGD_TFID.csv_SGD_TFID158627.csv_LSVC_TFID.csv_LSVC_TFID158627.csv_ensambledTop2.csv_predTestNB10.csv_ensambledSame.csv_predTestLogistic10.csv_LR_TFID158627.csv_predTestSGD50.csv_predTestLogistic1000.csv_LR_TFID.csv_predTestSGD1000.csv_LR_TFID50000.csv_ensambledTopMRDL.csv_predTestSGD10.csv_LR_TFID100000.csv_predTestSGD200.csv_DT_BOW.csv_ensambled.csv_DT_TFID.csv_predTestLinear10.csv_DT_TFID158627.csv_predTestLinear100.csv_predTestCNN200.csv_predTestCNN1000.csv_predTestLSTM50.csv_NB_TFID.csv_NB_TFID158627.csv_predTestLSTM_Seq_100000.csv_predTestCNN_Seq_100000.csv_ensambleddeepL.csv_predTestLinear50.csv\n"
     ]
    },
    {
     "name": "stderr",
     "output_type": "stream",
     "text": [
      "\n",
      " 67%|██████▋   | 4/6 [05:36<02:48, 84.05s/it]"
     ]
    },
    {
     "name": "stdout",
     "output_type": "stream",
     "text": [
      "\n",
      "\n",
      " insult\n",
      "\t DT_BOW.csv ensambled.csv\n",
      "\t LR_TFID.csv predTestLogistic1000.csv  (OVER CORR)\n",
      "\t NB_BOW158627.csv novalidSample.csv  (OVER CORR)\n",
      "\t predTestLinear10.csv predTestLogistic10.csv  (OVER CORR)\n",
      "\t SGD_TFID.csv SGD_TFID158627.csv  (OVER CORR)\n",
      "\t LR_TFID100000.csv LR_TFID50000.csv  (OVER CORR)\n",
      "\t ensambledTop2.csv predTestLSTM_Seq_100000.csv  (OVER CORR)\n",
      "\t NB_TFID.csv NB_TFID158627.csv  (OVER CORR)\n",
      "\t ensambledTopMRDL.csv LR_TFID100000.csv_LR_TFID50000.csv\n",
      "\t LR_TFID158627.csv ensambledTopMRDL.csv_LR_TFID100000.csv_LR_TFID50000.csv  (OVER CORR)\n",
      "\t ensambleddeepL.csv ensambledTop2.csv_predTestLSTM_Seq_100000.csv\n",
      "\t LR_TFID.csv_predTestLogistic1000.csv LR_TFID158627.csv_ensambledTopMRDL.csv_LR_TFID100000.csv_LR_TFID50000.csv\n",
      "\t NB_BOW.csv NB_BOW158627.csv_novalidSample.csv\n",
      "\t predTestNB10.csv predTestLinear10.csv_predTestLogistic10.csv\n",
      "\t DT_TFID.csv DT_TFID158627.csv\n",
      "\t ensambledSame.csv LR_TFID.csv_predTestLogistic1000.csv_LR_TFID158627.csv_ensambledTopMRDL.csv_LR_TFID100000.csv_LR_TFID50000.csv\n",
      "\t predTestDecisionTree10.csv predTestNB10.csv_predTestLinear10.csv_predTestLogistic10.csv\n",
      "\t predTestSGD10.csv predTestDecisionTree10.csv_predTestNB10.csv_predTestLinear10.csv_predTestLogistic10.csv\n",
      "\t DT_BOW.csv_ensambled.csv DT_TFID.csv_DT_TFID158627.csv\n",
      "\t predTestCNN_Seq_100000.csv ensambleddeepL.csv_ensambledTop2.csv_predTestLSTM_Seq_100000.csv\n",
      "\t ensambledSame.csv_LR_TFID.csv_predTestLogistic1000.csv_LR_TFID158627.csv_ensambledTopMRDL.csv_LR_TFID100000.csv_LR_TFID50000.csv predTestCNN_Seq_100000.csv_ensambleddeepL.csv_ensambledTop2.csv_predTestLSTM_Seq_100000.csv\n",
      "\t predTestSGD100.csv predTestSGD50.csv\n",
      "\t predTestLinear50.csv predTestSGD100.csv_predTestSGD50.csv\n",
      "\t LSVC_TFID.csv LSVC_TFID158627.csv\n",
      "\t predTestSGD1000.csv predTestSGD200.csv\n",
      "\t predTestLinear200.csv predTestSGD1000.csv_predTestSGD200.csv\n",
      "\t predTestLinear100.csv predTestLinear50.csv_predTestSGD100.csv_predTestSGD50.csv\n",
      "\t predTestLinear200.csv_predTestSGD1000.csv_predTestSGD200.csv predTestLinear100.csv_predTestLinear50.csv_predTestSGD100.csv_predTestSGD50.csv\n",
      "\t DT_BOW.csv_ensambled.csv_DT_TFID.csv_DT_TFID158627.csv predTestLinear200.csv_predTestSGD1000.csv_predTestSGD200.csv_predTestLinear100.csv_predTestLinear50.csv_predTestSGD100.csv_predTestSGD50.csv\n",
      "\t SGD_TFID.csv_SGD_TFID158627.csv ensambledSame.csv_LR_TFID.csv_predTestLogistic1000.csv_LR_TFID158627.csv_ensambledTopMRDL.csv_LR_TFID100000.csv_LR_TFID50000.csv_predTestCNN_Seq_100000.csv_ensambleddeepL.csv_ensambledTop2.csv_predTestLSTM_Seq_100000.csv\n",
      "\t NB_BOW.csv_NB_BOW158627.csv_novalidSample.csv SGD_TFID.csv_SGD_TFID158627.csv_ensambledSame.csv_LR_TFID.csv_predTestLogistic1000.csv_LR_TFID158627.csv_ensambledTopMRDL.csv_LR_TFID100000.csv_LR_TFID50000.csv_predTestCNN_Seq_100000.csv_ensambleddeepL.csv_ensambledTop2.csv_predTestLSTM_Seq_100000.csv\n",
      "\t predTestNB100.csv predTestNB50.csv\n",
      "\t DT_BOW.csv_ensambled.csv_DT_TFID.csv_DT_TFID158627.csv_predTestLinear200.csv_predTestSGD1000.csv_predTestSGD200.csv_predTestLinear100.csv_predTestLinear50.csv_predTestSGD100.csv_predTestSGD50.csv predTestNB100.csv_predTestNB50.csv\n",
      "\t LSVC_TFID.csv_LSVC_TFID158627.csv NB_BOW.csv_NB_BOW158627.csv_novalidSample.csv_SGD_TFID.csv_SGD_TFID158627.csv_ensambledSame.csv_LR_TFID.csv_predTestLogistic1000.csv_LR_TFID158627.csv_ensambledTopMRDL.csv_LR_TFID100000.csv_LR_TFID50000.csv_predTestCNN_Seq_100000.csv_ensambleddeepL.csv_ensambledTop2.csv_predTestLSTM_Seq_100000.csv\n",
      "\t predTestLinear.csv predTestNB1000.csv\n",
      "\t LSVC_TFID.csv_LSVC_TFID158627.csv_NB_BOW.csv_NB_BOW158627.csv_novalidSample.csv_SGD_TFID.csv_SGD_TFID158627.csv_ensambledSame.csv_LR_TFID.csv_predTestLogistic1000.csv_LR_TFID158627.csv_ensambledTopMRDL.csv_LR_TFID100000.csv_LR_TFID50000.csv_predTestCNN_Seq_100000.csv_ensambleddeepL.csv_ensambledTop2.csv_predTestLSTM_Seq_100000.csv predTestLinear.csv_predTestNB1000.csv\n",
      "\t predTestNB200.csv DT_BOW.csv_ensambled.csv_DT_TFID.csv_DT_TFID158627.csv_predTestLinear200.csv_predTestSGD1000.csv_predTestSGD200.csv_predTestLinear100.csv_predTestLinear50.csv_predTestSGD100.csv_predTestSGD50.csv_predTestNB100.csv_predTestNB50.csv\n",
      "\t LSVC_TFID.csv_LSVC_TFID158627.csv_NB_BOW.csv_NB_BOW158627.csv_novalidSample.csv_SGD_TFID.csv_SGD_TFID158627.csv_ensambledSame.csv_LR_TFID.csv_predTestLogistic1000.csv_LR_TFID158627.csv_ensambledTopMRDL.csv_LR_TFID100000.csv_LR_TFID50000.csv_predTestCNN_Seq_100000.csv_ensambleddeepL.csv_ensambledTop2.csv_predTestLSTM_Seq_100000.csv_predTestLinear.csv_predTestNB1000.csv predTestNB200.csv_DT_BOW.csv_ensambled.csv_DT_TFID.csv_DT_TFID158627.csv_predTestLinear200.csv_predTestSGD1000.csv_predTestSGD200.csv_predTestLinear100.csv_predTestLinear50.csv_predTestSGD100.csv_predTestSGD50.csv_predTestNB100.csv_predTestNB50.csv\n",
      "\t LR_BOW.csv LSVC_TFID.csv_LSVC_TFID158627.csv_NB_BOW.csv_NB_BOW158627.csv_novalidSample.csv_SGD_TFID.csv_SGD_TFID158627.csv_ensambledSame.csv_LR_TFID.csv_predTestLogistic1000.csv_LR_TFID158627.csv_ensambledTopMRDL.csv_LR_TFID100000.csv_LR_TFID50000.csv_predTestCNN_Seq_100000.csv_ensambleddeepL.csv_ensambledTop2.csv_predTestLSTM_Seq_100000.csv_predTestLinear.csv_predTestNB1000.csv_predTestNB200.csv_DT_BOW.csv_ensambled.csv_DT_TFID.csv_DT_TFID158627.csv_predTestLinear200.csv_predTestSGD1000.csv_predTestSGD200.csv_predTestLinear100.csv_predTestLinear50.csv_predTestSGD100.csv_predTestSGD50.csv_predTestNB100.csv_predTestNB50.csv\n",
      "\t predTestDecisionTree50.csv LR_BOW.csv_LSVC_TFID.csv_LSVC_TFID158627.csv_NB_BOW.csv_NB_BOW158627.csv_novalidSample.csv_SGD_TFID.csv_SGD_TFID158627.csv_ensambledSame.csv_LR_TFID.csv_predTestLogistic1000.csv_LR_TFID158627.csv_ensambledTopMRDL.csv_LR_TFID100000.csv_LR_TFID50000.csv_predTestCNN_Seq_100000.csv_ensambleddeepL.csv_ensambledTop2.csv_predTestLSTM_Seq_100000.csv_predTestLinear.csv_predTestNB1000.csv_predTestNB200.csv_DT_BOW.csv_ensambled.csv_DT_TFID.csv_DT_TFID158627.csv_predTestLinear200.csv_predTestSGD1000.csv_predTestSGD200.csv_predTestLinear100.csv_predTestLinear50.csv_predTestSGD100.csv_predTestSGD50.csv_predTestNB100.csv_predTestNB50.csv\n",
      "\t predTestDecisionTree100.csv predTestDecisionTree50.csv_LR_BOW.csv_LSVC_TFID.csv_LSVC_TFID158627.csv_NB_BOW.csv_NB_BOW158627.csv_novalidSample.csv_SGD_TFID.csv_SGD_TFID158627.csv_ensambledSame.csv_LR_TFID.csv_predTestLogistic1000.csv_LR_TFID158627.csv_ensambledTopMRDL.csv_LR_TFID100000.csv_LR_TFID50000.csv_predTestCNN_Seq_100000.csv_ensambleddeepL.csv_ensambledTop2.csv_predTestLSTM_Seq_100000.csv_predTestLinear.csv_predTestNB1000.csv_predTestNB200.csv_DT_BOW.csv_ensambled.csv_DT_TFID.csv_DT_TFID158627.csv_predTestLinear200.csv_predTestSGD1000.csv_predTestSGD200.csv_predTestLinear100.csv_predTestLinear50.csv_predTestSGD100.csv_predTestSGD50.csv_predTestNB100.csv_predTestNB50.csv\n",
      "\t predTestDecisionTree200.csv predTestDecisionTree100.csv_predTestDecisionTree50.csv_LR_BOW.csv_LSVC_TFID.csv_LSVC_TFID158627.csv_NB_BOW.csv_NB_BOW158627.csv_novalidSample.csv_SGD_TFID.csv_SGD_TFID158627.csv_ensambledSame.csv_LR_TFID.csv_predTestLogistic1000.csv_LR_TFID158627.csv_ensambledTopMRDL.csv_LR_TFID100000.csv_LR_TFID50000.csv_predTestCNN_Seq_100000.csv_ensambleddeepL.csv_ensambledTop2.csv_predTestLSTM_Seq_100000.csv_predTestLinear.csv_predTestNB1000.csv_predTestNB200.csv_DT_BOW.csv_ensambled.csv_DT_TFID.csv_DT_TFID158627.csv_predTestLinear200.csv_predTestSGD1000.csv_predTestSGD200.csv_predTestLinear100.csv_predTestLinear50.csv_predTestSGD100.csv_predTestSGD50.csv_predTestNB100.csv_predTestNB50.csv\n",
      "\t SGD_BOW.csv predTestDecisionTree200.csv_predTestDecisionTree100.csv_predTestDecisionTree50.csv_LR_BOW.csv_LSVC_TFID.csv_LSVC_TFID158627.csv_NB_BOW.csv_NB_BOW158627.csv_novalidSample.csv_SGD_TFID.csv_SGD_TFID158627.csv_ensambledSame.csv_LR_TFID.csv_predTestLogistic1000.csv_LR_TFID158627.csv_ensambledTopMRDL.csv_LR_TFID100000.csv_LR_TFID50000.csv_predTestCNN_Seq_100000.csv_ensambleddeepL.csv_ensambledTop2.csv_predTestLSTM_Seq_100000.csv_predTestLinear.csv_predTestNB1000.csv_predTestNB200.csv_DT_BOW.csv_ensambled.csv_DT_TFID.csv_DT_TFID158627.csv_predTestLinear200.csv_predTestSGD1000.csv_predTestSGD200.csv_predTestLinear100.csv_predTestLinear50.csv_predTestSGD100.csv_predTestSGD50.csv_predTestNB100.csv_predTestNB50.csv\n"
     ]
    },
    {
     "name": "stdout",
     "output_type": "stream",
     "text": [
      "\t NB_TFID.csv_NB_TFID158627.csv SGD_BOW.csv_predTestDecisionTree200.csv_predTestDecisionTree100.csv_predTestDecisionTree50.csv_LR_BOW.csv_LSVC_TFID.csv_LSVC_TFID158627.csv_NB_BOW.csv_NB_BOW158627.csv_novalidSample.csv_SGD_TFID.csv_SGD_TFID158627.csv_ensambledSame.csv_LR_TFID.csv_predTestLogistic1000.csv_LR_TFID158627.csv_ensambledTopMRDL.csv_LR_TFID100000.csv_LR_TFID50000.csv_predTestCNN_Seq_100000.csv_ensambleddeepL.csv_ensambledTop2.csv_predTestLSTM_Seq_100000.csv_predTestLinear.csv_predTestNB1000.csv_predTestNB200.csv_DT_BOW.csv_ensambled.csv_DT_TFID.csv_DT_TFID158627.csv_predTestLinear200.csv_predTestSGD1000.csv_predTestSGD200.csv_predTestLinear100.csv_predTestLinear50.csv_predTestSGD100.csv_predTestSGD50.csv_predTestNB100.csv_predTestNB50.csv\n",
      "\t LSVC_BOW.csv NB_TFID.csv_NB_TFID158627.csv_SGD_BOW.csv_predTestDecisionTree200.csv_predTestDecisionTree100.csv_predTestDecisionTree50.csv_LR_BOW.csv_LSVC_TFID.csv_LSVC_TFID158627.csv_NB_BOW.csv_NB_BOW158627.csv_novalidSample.csv_SGD_TFID.csv_SGD_TFID158627.csv_ensambledSame.csv_LR_TFID.csv_predTestLogistic1000.csv_LR_TFID158627.csv_ensambledTopMRDL.csv_LR_TFID100000.csv_LR_TFID50000.csv_predTestCNN_Seq_100000.csv_ensambleddeepL.csv_ensambledTop2.csv_predTestLSTM_Seq_100000.csv_predTestLinear.csv_predTestNB1000.csv_predTestNB200.csv_DT_BOW.csv_ensambled.csv_DT_TFID.csv_DT_TFID158627.csv_predTestLinear200.csv_predTestSGD1000.csv_predTestSGD200.csv_predTestLinear100.csv_predTestLinear50.csv_predTestSGD100.csv_predTestSGD50.csv_predTestNB100.csv_predTestNB50.csv\n",
      "\t predTestCNN1000.csv predTestLSTM50.csv\n",
      "\t predTestSGD10.csv_predTestDecisionTree10.csv_predTestNB10.csv_predTestLinear10.csv_predTestLogistic10.csv LSVC_BOW.csv_NB_TFID.csv_NB_TFID158627.csv_SGD_BOW.csv_predTestDecisionTree200.csv_predTestDecisionTree100.csv_predTestDecisionTree50.csv_LR_BOW.csv_LSVC_TFID.csv_LSVC_TFID158627.csv_NB_BOW.csv_NB_BOW158627.csv_novalidSample.csv_SGD_TFID.csv_SGD_TFID158627.csv_ensambledSame.csv_LR_TFID.csv_predTestLogistic1000.csv_LR_TFID158627.csv_ensambledTopMRDL.csv_LR_TFID100000.csv_LR_TFID50000.csv_predTestCNN_Seq_100000.csv_ensambleddeepL.csv_ensambledTop2.csv_predTestLSTM_Seq_100000.csv_predTestLinear.csv_predTestNB1000.csv_predTestNB200.csv_DT_BOW.csv_ensambled.csv_DT_TFID.csv_DT_TFID158627.csv_predTestLinear200.csv_predTestSGD1000.csv_predTestSGD200.csv_predTestLinear100.csv_predTestLinear50.csv_predTestSGD100.csv_predTestSGD50.csv_predTestNB100.csv_predTestNB50.csv\n",
      "\t predTestCNN200.csv predTestCNN1000.csv_predTestLSTM50.csv\n",
      "\t predTestSGD10.csv_predTestDecisionTree10.csv_predTestNB10.csv_predTestLinear10.csv_predTestLogistic10.csv_LSVC_BOW.csv_NB_TFID.csv_NB_TFID158627.csv_SGD_BOW.csv_predTestDecisionTree200.csv_predTestDecisionTree100.csv_predTestDecisionTree50.csv_LR_BOW.csv_LSVC_TFID.csv_LSVC_TFID158627.csv_NB_BOW.csv_NB_BOW158627.csv_novalidSample.csv_SGD_TFID.csv_SGD_TFID158627.csv_ensambledSame.csv_LR_TFID.csv_predTestLogistic1000.csv_LR_TFID158627.csv_ensambledTopMRDL.csv_LR_TFID100000.csv_LR_TFID50000.csv_predTestCNN_Seq_100000.csv_ensambleddeepL.csv_ensambledTop2.csv_predTestLSTM_Seq_100000.csv_predTestLinear.csv_predTestNB1000.csv_predTestNB200.csv_DT_BOW.csv_ensambled.csv_DT_TFID.csv_DT_TFID158627.csv_predTestLinear200.csv_predTestSGD1000.csv_predTestSGD200.csv_predTestLinear100.csv_predTestLinear50.csv_predTestSGD100.csv_predTestSGD50.csv_predTestNB100.csv_predTestNB50.csv predTestCNN200.csv_predTestCNN1000.csv_predTestLSTM50.csv\n",
      "\t predTestLSTM1000.csv predTestSGD10.csv_predTestDecisionTree10.csv_predTestNB10.csv_predTestLinear10.csv_predTestLogistic10.csv_LSVC_BOW.csv_NB_TFID.csv_NB_TFID158627.csv_SGD_BOW.csv_predTestDecisionTree200.csv_predTestDecisionTree100.csv_predTestDecisionTree50.csv_LR_BOW.csv_LSVC_TFID.csv_LSVC_TFID158627.csv_NB_BOW.csv_NB_BOW158627.csv_novalidSample.csv_SGD_TFID.csv_SGD_TFID158627.csv_ensambledSame.csv_LR_TFID.csv_predTestLogistic1000.csv_LR_TFID158627.csv_ensambledTopMRDL.csv_LR_TFID100000.csv_LR_TFID50000.csv_predTestCNN_Seq_100000.csv_ensambleddeepL.csv_ensambledTop2.csv_predTestLSTM_Seq_100000.csv_predTestLinear.csv_predTestNB1000.csv_predTestNB200.csv_DT_BOW.csv_ensambled.csv_DT_TFID.csv_DT_TFID158627.csv_predTestLinear200.csv_predTestSGD1000.csv_predTestSGD200.csv_predTestLinear100.csv_predTestLinear50.csv_predTestSGD100.csv_predTestSGD50.csv_predTestNB100.csv_predTestNB50.csv_predTestCNN200.csv_predTestCNN1000.csv_predTestLSTM50.csv\n",
      "\t predTestCNNW2C1000.csv predTestLSTM1000.csv_predTestSGD10.csv_predTestDecisionTree10.csv_predTestNB10.csv_predTestLinear10.csv_predTestLogistic10.csv_LSVC_BOW.csv_NB_TFID.csv_NB_TFID158627.csv_SGD_BOW.csv_predTestDecisionTree200.csv_predTestDecisionTree100.csv_predTestDecisionTree50.csv_LR_BOW.csv_LSVC_TFID.csv_LSVC_TFID158627.csv_NB_BOW.csv_NB_BOW158627.csv_novalidSample.csv_SGD_TFID.csv_SGD_TFID158627.csv_ensambledSame.csv_LR_TFID.csv_predTestLogistic1000.csv_LR_TFID158627.csv_ensambledTopMRDL.csv_LR_TFID100000.csv_LR_TFID50000.csv_predTestCNN_Seq_100000.csv_ensambleddeepL.csv_ensambledTop2.csv_predTestLSTM_Seq_100000.csv_predTestLinear.csv_predTestNB1000.csv_predTestNB200.csv_DT_BOW.csv_ensambled.csv_DT_TFID.csv_DT_TFID158627.csv_predTestLinear200.csv_predTestSGD1000.csv_predTestSGD200.csv_predTestLinear100.csv_predTestLinear50.csv_predTestSGD100.csv_predTestSGD50.csv_predTestNB100.csv_predTestNB50.csv_predTestCNN200.csv_predTestCNN1000.csv_predTestLSTM50.csv\n"
     ]
    },
    {
     "name": "stderr",
     "output_type": "stream",
     "text": [
      "\n",
      " 83%|████████▎ | 5/6 [07:00<01:24, 84.17s/it]"
     ]
    },
    {
     "name": "stdout",
     "output_type": "stream",
     "text": [
      "\n",
      "\n",
      " identity_hate\n",
      "\t DT_BOW.csv ensambled.csv\n",
      "\t DT_TFID.csv predTestLinear10.csv\n",
      "\t DT_TFID158627.csv predTestLogistic10.csv\n",
      "\t ensambleddeepL.csv predTestNB10.csv\n",
      "\t ensambledSame.csv predTestSGD10.csv\n",
      "\t ensambledTop2.csv predTestSGD100.csv\n",
      "\t ensambledTopMRDL.csv predTestSGD1000.csv\n",
      "\t LR_BOW.csv predTestSGD200.csv\n",
      "\t LR_TFID.csv predTestSGD50.csv\n",
      "\t NB_BOW158627.csv novalidSample.csv  (OVER CORR)\n",
      "\t predTestLogistic1000.csv LR_TFID.csv_predTestSGD50.csv  (OVER CORR)\n",
      "\t SGD_TFID.csv SGD_TFID158627.csv  (OVER CORR)\n",
      "\t LR_TFID100000.csv LR_TFID50000.csv  (OVER CORR)\n",
      "\t ensambledTopMRDL.csv_predTestSGD1000.csv LR_TFID100000.csv_LR_TFID50000.csv\n",
      "\t LR_TFID158627.csv ensambledTopMRDL.csv_predTestSGD1000.csv_LR_TFID100000.csv_LR_TFID50000.csv\n",
      "\t NB_TFID.csv NB_TFID158627.csv\n",
      "\t predTestLogistic1000.csv_LR_TFID.csv_predTestSGD50.csv LR_TFID158627.csv_ensambledTopMRDL.csv_predTestSGD1000.csv_LR_TFID100000.csv_LR_TFID50000.csv\n",
      "\t ensambledSame.csv_predTestSGD10.csv predTestLogistic1000.csv_LR_TFID.csv_predTestSGD50.csv_LR_TFID158627.csv_ensambledTopMRDL.csv_predTestSGD1000.csv_LR_TFID100000.csv_LR_TFID50000.csv\n",
      "\t predTestCNN_Seq_100000.csv ensambleddeepL.csv_predTestNB10.csv\n",
      "\t DT_TFID.csv_predTestLinear10.csv DT_TFID158627.csv_predTestLogistic10.csv\n",
      "\t NB_BOW.csv NB_BOW158627.csv_novalidSample.csv\n",
      "\t DT_BOW.csv_ensambled.csv DT_TFID.csv_predTestLinear10.csv_DT_TFID158627.csv_predTestLogistic10.csv\n",
      "\t ensambledTop2.csv_predTestSGD100.csv ensambledSame.csv_predTestSGD10.csv_predTestLogistic1000.csv_LR_TFID.csv_predTestSGD50.csv_LR_TFID158627.csv_ensambledTopMRDL.csv_predTestSGD1000.csv_LR_TFID100000.csv_LR_TFID50000.csv\n",
      "\t LSVC_TFID.csv LSVC_TFID158627.csv\n",
      "\t predTestLinear100.csv predTestLinear50.csv\n",
      "\t ensambledTop2.csv_predTestSGD100.csv_ensambledSame.csv_predTestSGD10.csv_predTestLogistic1000.csv_LR_TFID.csv_predTestSGD50.csv_LR_TFID158627.csv_ensambledTopMRDL.csv_predTestSGD1000.csv_LR_TFID100000.csv_LR_TFID50000.csv LSVC_TFID.csv_LSVC_TFID158627.csv\n",
      "\t predTestNB100.csv predTestNB200.csv\n",
      "\t predTestLSTM_Seq_100000.csv predTestCNN_Seq_100000.csv_ensambleddeepL.csv_predTestNB10.csv\n",
      "\t predTestNB1000.csv predTestNB100.csv_predTestNB200.csv\n",
      "\t SGD_TFID.csv_SGD_TFID158627.csv ensambledTop2.csv_predTestSGD100.csv_ensambledSame.csv_predTestSGD10.csv_predTestLogistic1000.csv_LR_TFID.csv_predTestSGD50.csv_LR_TFID158627.csv_ensambledTopMRDL.csv_predTestSGD1000.csv_LR_TFID100000.csv_LR_TFID50000.csv_LSVC_TFID.csv_LSVC_TFID158627.csv\n",
      "\t DT_BOW.csv_ensambled.csv_DT_TFID.csv_predTestLinear10.csv_DT_TFID158627.csv_predTestLogistic10.csv SGD_TFID.csv_SGD_TFID158627.csv_ensambledTop2.csv_predTestSGD100.csv_ensambledSame.csv_predTestSGD10.csv_predTestLogistic1000.csv_LR_TFID.csv_predTestSGD50.csv_LR_TFID158627.csv_ensambledTopMRDL.csv_predTestSGD1000.csv_LR_TFID100000.csv_LR_TFID50000.csv_LSVC_TFID.csv_LSVC_TFID158627.csv\n",
      "\t predTestLinear200.csv predTestLinear100.csv_predTestLinear50.csv\n",
      "\t predTestNB50.csv predTestNB1000.csv_predTestNB100.csv_predTestNB200.csv\n",
      "\t predTestCNN1000.csv predTestLSTM50.csv\n",
      "\t NB_BOW.csv_NB_BOW158627.csv_novalidSample.csv DT_BOW.csv_ensambled.csv_DT_TFID.csv_predTestLinear10.csv_DT_TFID158627.csv_predTestLogistic10.csv_SGD_TFID.csv_SGD_TFID158627.csv_ensambledTop2.csv_predTestSGD100.csv_ensambledSame.csv_predTestSGD10.csv_predTestLogistic1000.csv_LR_TFID.csv_predTestSGD50.csv_LR_TFID158627.csv_ensambledTopMRDL.csv_predTestSGD1000.csv_LR_TFID100000.csv_LR_TFID50000.csv_LSVC_TFID.csv_LSVC_TFID158627.csv\n",
      "\t predTestLSTM_Seq_100000.csv_predTestCNN_Seq_100000.csv_ensambleddeepL.csv_predTestNB10.csv NB_BOW.csv_NB_BOW158627.csv_novalidSample.csv_DT_BOW.csv_ensambled.csv_DT_TFID.csv_predTestLinear10.csv_DT_TFID158627.csv_predTestLogistic10.csv_SGD_TFID.csv_SGD_TFID158627.csv_ensambledTop2.csv_predTestSGD100.csv_ensambledSame.csv_predTestSGD10.csv_predTestLogistic1000.csv_LR_TFID.csv_predTestSGD50.csv_LR_TFID158627.csv_ensambledTopMRDL.csv_predTestSGD1000.csv_LR_TFID100000.csv_LR_TFID50000.csv_LSVC_TFID.csv_LSVC_TFID158627.csv\n",
      "\t NB_TFID.csv_NB_TFID158627.csv predTestLSTM_Seq_100000.csv_predTestCNN_Seq_100000.csv_ensambleddeepL.csv_predTestNB10.csv_NB_BOW.csv_NB_BOW158627.csv_novalidSample.csv_DT_BOW.csv_ensambled.csv_DT_TFID.csv_predTestLinear10.csv_DT_TFID158627.csv_predTestLogistic10.csv_SGD_TFID.csv_SGD_TFID158627.csv_ensambledTop2.csv_predTestSGD100.csv_ensambledSame.csv_predTestSGD10.csv_predTestLogistic1000.csv_LR_TFID.csv_predTestSGD50.csv_LR_TFID158627.csv_ensambledTopMRDL.csv_predTestSGD1000.csv_LR_TFID100000.csv_LR_TFID50000.csv_LSVC_TFID.csv_LSVC_TFID158627.csv\n",
      "\t predTestCNN200.csv predTestCNN1000.csv_predTestLSTM50.csv\n",
      "\t SGD_BOW.csv LR_BOW.csv_predTestSGD200.csv\n",
      "\t predTestDecisionTree100.csv predTestDecisionTree50.csv\n",
      "\t NB_TFID.csv_NB_TFID158627.csv_predTestLSTM_Seq_100000.csv_predTestCNN_Seq_100000.csv_ensambleddeepL.csv_predTestNB10.csv_NB_BOW.csv_NB_BOW158627.csv_novalidSample.csv_DT_BOW.csv_ensambled.csv_DT_TFID.csv_predTestLinear10.csv_DT_TFID158627.csv_predTestLogistic10.csv_SGD_TFID.csv_SGD_TFID158627.csv_ensambledTop2.csv_predTestSGD100.csv_ensambledSame.csv_predTestSGD10.csv_predTestLogistic1000.csv_LR_TFID.csv_predTestSGD50.csv_LR_TFID158627.csv_ensambledTopMRDL.csv_predTestSGD1000.csv_LR_TFID100000.csv_LR_TFID50000.csv_LSVC_TFID.csv_LSVC_TFID158627.csv SGD_BOW.csv_LR_BOW.csv_predTestSGD200.csv\n",
      "\t LSVC_BOW.csv NB_TFID.csv_NB_TFID158627.csv_predTestLSTM_Seq_100000.csv_predTestCNN_Seq_100000.csv_ensambleddeepL.csv_predTestNB10.csv_NB_BOW.csv_NB_BOW158627.csv_novalidSample.csv_DT_BOW.csv_ensambled.csv_DT_TFID.csv_predTestLinear10.csv_DT_TFID158627.csv_predTestLogistic10.csv_SGD_TFID.csv_SGD_TFID158627.csv_ensambledTop2.csv_predTestSGD100.csv_ensambledSame.csv_predTestSGD10.csv_predTestLogistic1000.csv_LR_TFID.csv_predTestSGD50.csv_LR_TFID158627.csv_ensambledTopMRDL.csv_predTestSGD1000.csv_LR_TFID100000.csv_LR_TFID50000.csv_LSVC_TFID.csv_LSVC_TFID158627.csv_SGD_BOW.csv_LR_BOW.csv_predTestSGD200.csv\n",
      "\t predTestDecisionTree200.csv predTestDecisionTree100.csv_predTestDecisionTree50.csv\n",
      "\t predTestNB50.csv_predTestNB1000.csv_predTestNB100.csv_predTestNB200.csv predTestDecisionTree200.csv_predTestDecisionTree100.csv_predTestDecisionTree50.csv\n",
      "\t LSVC_BOW.csv_NB_TFID.csv_NB_TFID158627.csv_predTestLSTM_Seq_100000.csv_predTestCNN_Seq_100000.csv_ensambleddeepL.csv_predTestNB10.csv_NB_BOW.csv_NB_BOW158627.csv_novalidSample.csv_DT_BOW.csv_ensambled.csv_DT_TFID.csv_predTestLinear10.csv_DT_TFID158627.csv_predTestLogistic10.csv_SGD_TFID.csv_SGD_TFID158627.csv_ensambledTop2.csv_predTestSGD100.csv_ensambledSame.csv_predTestSGD10.csv_predTestLogistic1000.csv_LR_TFID.csv_predTestSGD50.csv_LR_TFID158627.csv_ensambledTopMRDL.csv_predTestSGD1000.csv_LR_TFID100000.csv_LR_TFID50000.csv_LSVC_TFID.csv_LSVC_TFID158627.csv_SGD_BOW.csv_LR_BOW.csv_predTestSGD200.csv predTestNB50.csv_predTestNB1000.csv_predTestNB100.csv_predTestNB200.csv_predTestDecisionTree200.csv_predTestDecisionTree100.csv_predTestDecisionTree50.csv\n",
      "\t predTestLinear.csv LSVC_BOW.csv_NB_TFID.csv_NB_TFID158627.csv_predTestLSTM_Seq_100000.csv_predTestCNN_Seq_100000.csv_ensambleddeepL.csv_predTestNB10.csv_NB_BOW.csv_NB_BOW158627.csv_novalidSample.csv_DT_BOW.csv_ensambled.csv_DT_TFID.csv_predTestLinear10.csv_DT_TFID158627.csv_predTestLogistic10.csv_SGD_TFID.csv_SGD_TFID158627.csv_ensambledTop2.csv_predTestSGD100.csv_ensambledSame.csv_predTestSGD10.csv_predTestLogistic1000.csv_LR_TFID.csv_predTestSGD50.csv_LR_TFID158627.csv_ensambledTopMRDL.csv_predTestSGD1000.csv_LR_TFID100000.csv_LR_TFID50000.csv_LSVC_TFID.csv_LSVC_TFID158627.csv_SGD_BOW.csv_LR_BOW.csv_predTestSGD200.csv_predTestNB50.csv_predTestNB1000.csv_predTestNB100.csv_predTestNB200.csv_predTestDecisionTree200.csv_predTestDecisionTree100.csv_predTestDecisionTree50.csv\n"
     ]
    },
    {
     "name": "stdout",
     "output_type": "stream",
     "text": [
      "\t predTestLinear200.csv_predTestLinear100.csv_predTestLinear50.csv predTestLinear.csv_LSVC_BOW.csv_NB_TFID.csv_NB_TFID158627.csv_predTestLSTM_Seq_100000.csv_predTestCNN_Seq_100000.csv_ensambleddeepL.csv_predTestNB10.csv_NB_BOW.csv_NB_BOW158627.csv_novalidSample.csv_DT_BOW.csv_ensambled.csv_DT_TFID.csv_predTestLinear10.csv_DT_TFID158627.csv_predTestLogistic10.csv_SGD_TFID.csv_SGD_TFID158627.csv_ensambledTop2.csv_predTestSGD100.csv_ensambledSame.csv_predTestSGD10.csv_predTestLogistic1000.csv_LR_TFID.csv_predTestSGD50.csv_LR_TFID158627.csv_ensambledTopMRDL.csv_predTestSGD1000.csv_LR_TFID100000.csv_LR_TFID50000.csv_LSVC_TFID.csv_LSVC_TFID158627.csv_SGD_BOW.csv_LR_BOW.csv_predTestSGD200.csv_predTestNB50.csv_predTestNB1000.csv_predTestNB100.csv_predTestNB200.csv_predTestDecisionTree200.csv_predTestDecisionTree100.csv_predTestDecisionTree50.csv\n",
      "\t predTestCNN200.csv_predTestCNN1000.csv_predTestLSTM50.csv predTestLinear200.csv_predTestLinear100.csv_predTestLinear50.csv_predTestLinear.csv_LSVC_BOW.csv_NB_TFID.csv_NB_TFID158627.csv_predTestLSTM_Seq_100000.csv_predTestCNN_Seq_100000.csv_ensambleddeepL.csv_predTestNB10.csv_NB_BOW.csv_NB_BOW158627.csv_novalidSample.csv_DT_BOW.csv_ensambled.csv_DT_TFID.csv_predTestLinear10.csv_DT_TFID158627.csv_predTestLogistic10.csv_SGD_TFID.csv_SGD_TFID158627.csv_ensambledTop2.csv_predTestSGD100.csv_ensambledSame.csv_predTestSGD10.csv_predTestLogistic1000.csv_LR_TFID.csv_predTestSGD50.csv_LR_TFID158627.csv_ensambledTopMRDL.csv_predTestSGD1000.csv_LR_TFID100000.csv_LR_TFID50000.csv_LSVC_TFID.csv_LSVC_TFID158627.csv_SGD_BOW.csv_LR_BOW.csv_predTestSGD200.csv_predTestNB50.csv_predTestNB1000.csv_predTestNB100.csv_predTestNB200.csv_predTestDecisionTree200.csv_predTestDecisionTree100.csv_predTestDecisionTree50.csv\n",
      "\t predTestDecisionTree10.csv predTestCNN200.csv_predTestCNN1000.csv_predTestLSTM50.csv_predTestLinear200.csv_predTestLinear100.csv_predTestLinear50.csv_predTestLinear.csv_LSVC_BOW.csv_NB_TFID.csv_NB_TFID158627.csv_predTestLSTM_Seq_100000.csv_predTestCNN_Seq_100000.csv_ensambleddeepL.csv_predTestNB10.csv_NB_BOW.csv_NB_BOW158627.csv_novalidSample.csv_DT_BOW.csv_ensambled.csv_DT_TFID.csv_predTestLinear10.csv_DT_TFID158627.csv_predTestLogistic10.csv_SGD_TFID.csv_SGD_TFID158627.csv_ensambledTop2.csv_predTestSGD100.csv_ensambledSame.csv_predTestSGD10.csv_predTestLogistic1000.csv_LR_TFID.csv_predTestSGD50.csv_LR_TFID158627.csv_ensambledTopMRDL.csv_predTestSGD1000.csv_LR_TFID100000.csv_LR_TFID50000.csv_LSVC_TFID.csv_LSVC_TFID158627.csv_SGD_BOW.csv_LR_BOW.csv_predTestSGD200.csv_predTestNB50.csv_predTestNB1000.csv_predTestNB100.csv_predTestNB200.csv_predTestDecisionTree200.csv_predTestDecisionTree100.csv_predTestDecisionTree50.csv\n",
      "\t predTestLSTM1000.csv predTestDecisionTree10.csv_predTestCNN200.csv_predTestCNN1000.csv_predTestLSTM50.csv_predTestLinear200.csv_predTestLinear100.csv_predTestLinear50.csv_predTestLinear.csv_LSVC_BOW.csv_NB_TFID.csv_NB_TFID158627.csv_predTestLSTM_Seq_100000.csv_predTestCNN_Seq_100000.csv_ensambleddeepL.csv_predTestNB10.csv_NB_BOW.csv_NB_BOW158627.csv_novalidSample.csv_DT_BOW.csv_ensambled.csv_DT_TFID.csv_predTestLinear10.csv_DT_TFID158627.csv_predTestLogistic10.csv_SGD_TFID.csv_SGD_TFID158627.csv_ensambledTop2.csv_predTestSGD100.csv_ensambledSame.csv_predTestSGD10.csv_predTestLogistic1000.csv_LR_TFID.csv_predTestSGD50.csv_LR_TFID158627.csv_ensambledTopMRDL.csv_predTestSGD1000.csv_LR_TFID100000.csv_LR_TFID50000.csv_LSVC_TFID.csv_LSVC_TFID158627.csv_SGD_BOW.csv_LR_BOW.csv_predTestSGD200.csv_predTestNB50.csv_predTestNB1000.csv_predTestNB100.csv_predTestNB200.csv_predTestDecisionTree200.csv_predTestDecisionTree100.csv_predTestDecisionTree50.csv\n",
      "\t predTestCNNW2C1000.csv predTestLSTM1000.csv_predTestDecisionTree10.csv_predTestCNN200.csv_predTestCNN1000.csv_predTestLSTM50.csv_predTestLinear200.csv_predTestLinear100.csv_predTestLinear50.csv_predTestLinear.csv_LSVC_BOW.csv_NB_TFID.csv_NB_TFID158627.csv_predTestLSTM_Seq_100000.csv_predTestCNN_Seq_100000.csv_ensambleddeepL.csv_predTestNB10.csv_NB_BOW.csv_NB_BOW158627.csv_novalidSample.csv_DT_BOW.csv_ensambled.csv_DT_TFID.csv_predTestLinear10.csv_DT_TFID158627.csv_predTestLogistic10.csv_SGD_TFID.csv_SGD_TFID158627.csv_ensambledTop2.csv_predTestSGD100.csv_ensambledSame.csv_predTestSGD10.csv_predTestLogistic1000.csv_LR_TFID.csv_predTestSGD50.csv_LR_TFID158627.csv_ensambledTopMRDL.csv_predTestSGD1000.csv_LR_TFID100000.csv_LR_TFID50000.csv_LSVC_TFID.csv_LSVC_TFID158627.csv_SGD_BOW.csv_LR_BOW.csv_predTestSGD200.csv_predTestNB50.csv_predTestNB1000.csv_predTestNB100.csv_predTestNB200.csv_predTestDecisionTree200.csv_predTestDecisionTree100.csv_predTestDecisionTree50.csv\n"
     ]
    },
    {
     "name": "stderr",
     "output_type": "stream",
     "text": [
      "\n",
      "100%|██████████| 6/6 [08:24<00:00, 84.07s/it]\n"
     ]
    }
   ],
   "source": [
    "def loadPredictions():\n",
    "    files = os.listdir(path)\n",
    "    lstCSVs = []\n",
    "    for f in files:\n",
    "        if f.endswith(\".csv\"):\n",
    "            lstCSVs.append(f)\n",
    "    frames = {f:pd.read_csv(path+f).sort_values('id') for f in lstCSVs}\n",
    "    return frames\n",
    "\n",
    "\n",
    "def getCorrelationMatrix(col,frames):\n",
    "    corDf = pd.DataFrame()\n",
    "    for name, df in frames.items():\n",
    "        corDf[name] = df[col]\n",
    "    cor = corDf.corr()\n",
    "    for name in cor.columns:\n",
    "        cor.set_value(name,name,0.0)\n",
    "    return cor\n",
    "\n",
    "\n",
    "def getMaxCorrelation(matrixCorr):\n",
    "    nCor = np.array(matrixCorr.values)\n",
    "    corr = np.max(nCor)\n",
    "    idx = np.unravel_index(np.argmax(nCor, axis=None), nCor.shape)\n",
    "    x1 = matrixCorr.columns[idx[0]]\n",
    "    x2 = matrixCorr.columns[idx[1]]\n",
    "    return corr,x1,x2\n",
    "\n",
    "\n",
    "def mergeDensitiesWeights(m1,m2,densities):\n",
    "    d1 = densities[m1]\n",
    "    d2 = densities[m2]\n",
    "    d_tot = d1 + d2\n",
    "    weights1 = 0.5*coefDensidad + (d1/d_tot)*(1-coefDensidad)\n",
    "    weights2 = 0.5*coefDensidad + (d2/d_tot)*(1-coefDensidad)\n",
    "    return weights1, weights2\n",
    "\n",
    "\n",
    "def ensambleByColumn(col,frames,densities):\n",
    "    if len(frames) == 1:\n",
    "        _, fr = frames.popitem()\n",
    "        return fr[col]\n",
    "\n",
    "    mat = getCorrelationMatrix(col,frames)\n",
    "    corr,merge1,merge2 = getMaxCorrelation(mat)\n",
    "    new_col_name = merge1 + '_' + merge2\n",
    "\n",
    "    w1,w2 = mergeDensitiesWeights(merge1,merge2,densities)\n",
    "    new_df = pd.DataFrame()\n",
    "    new_df[col] = (frames[merge1][col]*w1) + (frames[merge2][col]*w2)\n",
    "    del frames[merge1]\n",
    "    del frames[merge2]\n",
    "    frames[new_col_name] = new_df\n",
    "\n",
    "    if corr >= maxCorrelacion:\n",
    "        print('\\t',merge1,merge2,' (OVER CORR)')\n",
    "        densities[new_col_name] = max(densities[merge1],densities[merge2])\n",
    "    else:\n",
    "        print('\\t',merge1,merge2)\n",
    "        densities[new_col_name] = densities[merge1] + densities[merge2]\n",
    "\n",
    "    del densities[merge1]\n",
    "    del densities[merge2]\n",
    "    #print(densities)\n",
    "    return ensambleByColumn(col,frames,densities)\n",
    "\n",
    "\n",
    "ensambled = sample.sort_values('id')\n",
    "\n",
    "for col in tqdm(columns):\n",
    "    frames = loadPredictions()\n",
    "    print('\\n\\n',col)\n",
    "    densities = {k:1.0 for k in frames.keys()}\n",
    "    ensambled[col] = ensambleByColumn(col,frames,densities)\n",
    "\n",
    "ensambled.to_csv(path + 'ensambled/ensambledByCorrelations.csv', index=False)"
   ]
  },
  {
   "cell_type": "code",
   "execution_count": null,
   "metadata": {
    "collapsed": true
   },
   "outputs": [],
   "source": []
  },
  {
   "cell_type": "code",
   "execution_count": null,
   "metadata": {
    "collapsed": true
   },
   "outputs": [],
   "source": []
  },
  {
   "cell_type": "code",
   "execution_count": null,
   "metadata": {
    "collapsed": true
   },
   "outputs": [],
   "source": []
  },
  {
   "cell_type": "code",
   "execution_count": null,
   "metadata": {
    "collapsed": true
   },
   "outputs": [],
   "source": []
  },
  {
   "cell_type": "code",
   "execution_count": null,
   "metadata": {
    "collapsed": true
   },
   "outputs": [],
   "source": []
  },
  {
   "cell_type": "code",
   "execution_count": null,
   "metadata": {
    "collapsed": true
   },
   "outputs": [],
   "source": []
  },
  {
   "cell_type": "code",
   "execution_count": null,
   "metadata": {
    "collapsed": true
   },
   "outputs": [],
   "source": []
  },
  {
   "cell_type": "code",
   "execution_count": null,
   "metadata": {
    "collapsed": true
   },
   "outputs": [],
   "source": []
  },
  {
   "cell_type": "code",
   "execution_count": null,
   "metadata": {
    "collapsed": true
   },
   "outputs": [],
   "source": []
  },
  {
   "cell_type": "code",
   "execution_count": null,
   "metadata": {
    "collapsed": true
   },
   "outputs": [],
   "source": []
  },
  {
   "cell_type": "code",
   "execution_count": null,
   "metadata": {
    "collapsed": true
   },
   "outputs": [],
   "source": []
  },
  {
   "cell_type": "code",
   "execution_count": null,
   "metadata": {
    "collapsed": true
   },
   "outputs": [],
   "source": []
  }
 ],
 "metadata": {
  "kernelspec": {
   "display_name": "Python 3",
   "language": "python",
   "name": "python3"
  },
  "language_info": {
   "codemirror_mode": {
    "name": "ipython",
    "version": 3
   },
   "file_extension": ".py",
   "mimetype": "text/x-python",
   "name": "python",
   "nbconvert_exporter": "python",
   "pygments_lexer": "ipython3",
   "version": "3.6.1"
  }
 },
 "nbformat": 4,
 "nbformat_minor": 2
}
